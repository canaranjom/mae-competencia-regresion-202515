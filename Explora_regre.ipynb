{
 "cells": [
  {
   "cell_type": "code",
   "execution_count": 6,
   "id": "60f0b2f4",
   "metadata": {
    "vscode": {
     "languageId": "r"
    }
   },
   "outputs": [],
   "source": [
    "# Librerías\n",
    "library(readxl)\n",
    "library(readxl)\n",
    "library(dplyr)\n",
    "library(car)\n",
    "library(explore)\n",
    "library(psych)\n",
    "library(corrplot)\n",
    "library(readr)"
   ]
  },
  {
   "cell_type": "markdown",
   "id": "892e9f1c",
   "metadata": {},
   "source": [
    "# Data Regresión"
   ]
  },
  {
   "cell_type": "code",
   "execution_count": 7,
   "id": "ef37ab28",
   "metadata": {
    "vscode": {
     "languageId": "r"
    }
   },
   "outputs": [
    {
     "name": "stderr",
     "output_type": "stream",
     "text": [
      "\u001b[1m\u001b[22mNew names:\n",
      "\u001b[36m•\u001b[39m `` -> `...1`\n",
      "\u001b[1mRows: \u001b[22m\u001b[34m1767\u001b[39m \u001b[1mColumns: \u001b[22m\u001b[34m30\u001b[39m\n",
      "\u001b[36m──\u001b[39m \u001b[1mColumn specification\u001b[22m \u001b[36m────────────────────────────────────────────────────────\u001b[39m\n",
      "\u001b[1mDelimiter:\u001b[22m \",\"\n",
      "\u001b[31mchr\u001b[39m  (6): HallwayType, HeatingType, AptManageType, TimeToBusStop, TimeToSubw...\n",
      "\u001b[32mdbl\u001b[39m (24): ...1, YearBuilt, YrSold, MonthSold, Size.sqf., Floor, N_Parkinglot...\n",
      "\n",
      "\u001b[36mℹ\u001b[39m Use `spec()` to retrieve the full column specification for this data.\n",
      "\u001b[36mℹ\u001b[39m Specify the column types or set `show_col_types = FALSE` to quiet this message.\n"
     ]
    },
    {
     "data": {
      "text/html": [
       "<table class=\"dataframe\">\n",
       "<caption>A tibble: 6 × 30</caption>\n",
       "<thead>\n",
       "\t<tr><th scope=col>...1</th><th scope=col>YearBuilt</th><th scope=col>YrSold</th><th scope=col>MonthSold</th><th scope=col>Size.sqf.</th><th scope=col>Floor</th><th scope=col>HallwayType</th><th scope=col>HeatingType</th><th scope=col>AptManageType</th><th scope=col>N_Parkinglot.Ground.</th><th scope=col>⋯</th><th scope=col>N_FacilitiesNearBy.Mall.</th><th scope=col>N_FacilitiesNearBy.ETC.</th><th scope=col>N_FacilitiesNearBy.Park.</th><th scope=col>N_SchoolNearBy.Elementary.</th><th scope=col>N_SchoolNearBy.Middle.</th><th scope=col>N_SchoolNearBy.High.</th><th scope=col>N_SchoolNearBy.University.</th><th scope=col>N_FacilitiesInApt</th><th scope=col>N_FacilitiesNearBy.Total.</th><th scope=col>N_SchoolNearBy.Total.</th></tr>\n",
       "\t<tr><th scope=col>&lt;dbl&gt;</th><th scope=col>&lt;dbl&gt;</th><th scope=col>&lt;dbl&gt;</th><th scope=col>&lt;dbl&gt;</th><th scope=col>&lt;dbl&gt;</th><th scope=col>&lt;dbl&gt;</th><th scope=col>&lt;chr&gt;</th><th scope=col>&lt;chr&gt;</th><th scope=col>&lt;chr&gt;</th><th scope=col>&lt;dbl&gt;</th><th scope=col>⋯</th><th scope=col>&lt;dbl&gt;</th><th scope=col>&lt;dbl&gt;</th><th scope=col>&lt;dbl&gt;</th><th scope=col>&lt;dbl&gt;</th><th scope=col>&lt;dbl&gt;</th><th scope=col>&lt;dbl&gt;</th><th scope=col>&lt;dbl&gt;</th><th scope=col>&lt;dbl&gt;</th><th scope=col>&lt;dbl&gt;</th><th scope=col>&lt;dbl&gt;</th></tr>\n",
       "</thead>\n",
       "<tbody>\n",
       "\t<tr><td>3016</td><td>2013</td><td>2013</td><td>6</td><td> 910</td><td>18</td><td>terraced</td><td>individual_heating</td><td>management_in_trust</td><td>  8</td><td>⋯</td><td>1</td><td>0</td><td>1</td><td>4</td><td>2</td><td>2</td><td>3</td><td>7</td><td> 9</td><td>11</td></tr>\n",
       "\t<tr><td>5492</td><td>2014</td><td>2017</td><td>4</td><td> 640</td><td>25</td><td>terraced</td><td>individual_heating</td><td>management_in_trust</td><td> 90</td><td>⋯</td><td>1</td><td>5</td><td>0</td><td>4</td><td>3</td><td>5</td><td>5</td><td>9</td><td>14</td><td>17</td></tr>\n",
       "\t<tr><td>2757</td><td>1992</td><td>2013</td><td>2</td><td> 640</td><td> 5</td><td>corridor</td><td>individual_heating</td><td>management_in_trust</td><td>200</td><td>⋯</td><td>1</td><td>5</td><td>1</td><td>4</td><td>3</td><td>5</td><td>5</td><td>3</td><td>16</td><td>17</td></tr>\n",
       "\t<tr><td>1397</td><td>2006</td><td>2010</td><td>7</td><td> 914</td><td>16</td><td>terraced</td><td>individual_heating</td><td>management_in_trust</td><td>249</td><td>⋯</td><td>1</td><td>0</td><td>0</td><td>2</td><td>2</td><td>1</td><td>2</td><td>5</td><td> 3</td><td> 7</td></tr>\n",
       "\t<tr><td> 510</td><td>1993</td><td>2009</td><td>1</td><td> 644</td><td>17</td><td>mixed   </td><td>individual_heating</td><td>management_in_trust</td><td>523</td><td>⋯</td><td>1</td><td>5</td><td>0</td><td>4</td><td>3</td><td>5</td><td>5</td><td>4</td><td>14</td><td>17</td></tr>\n",
       "\t<tr><td>4985</td><td>2007</td><td>2016</td><td>7</td><td>1334</td><td>23</td><td>terraced</td><td>individual_heating</td><td>management_in_trust</td><td>  7</td><td>⋯</td><td>1</td><td>0</td><td>1</td><td>2</td><td>1</td><td>1</td><td>1</td><td>5</td><td> 9</td><td> 5</td></tr>\n",
       "</tbody>\n",
       "</table>\n"
      ],
      "text/latex": [
       "A tibble: 6 × 30\n",
       "\\begin{tabular}{lllllllllllllllllllll}\n",
       " ...1 & YearBuilt & YrSold & MonthSold & Size.sqf. & Floor & HallwayType & HeatingType & AptManageType & N\\_Parkinglot.Ground. & ⋯ & N\\_FacilitiesNearBy.Mall. & N\\_FacilitiesNearBy.ETC. & N\\_FacilitiesNearBy.Park. & N\\_SchoolNearBy.Elementary. & N\\_SchoolNearBy.Middle. & N\\_SchoolNearBy.High. & N\\_SchoolNearBy.University. & N\\_FacilitiesInApt & N\\_FacilitiesNearBy.Total. & N\\_SchoolNearBy.Total.\\\\\n",
       " <dbl> & <dbl> & <dbl> & <dbl> & <dbl> & <dbl> & <chr> & <chr> & <chr> & <dbl> & ⋯ & <dbl> & <dbl> & <dbl> & <dbl> & <dbl> & <dbl> & <dbl> & <dbl> & <dbl> & <dbl>\\\\\n",
       "\\hline\n",
       "\t 3016 & 2013 & 2013 & 6 &  910 & 18 & terraced & individual\\_heating & management\\_in\\_trust &   8 & ⋯ & 1 & 0 & 1 & 4 & 2 & 2 & 3 & 7 &  9 & 11\\\\\n",
       "\t 5492 & 2014 & 2017 & 4 &  640 & 25 & terraced & individual\\_heating & management\\_in\\_trust &  90 & ⋯ & 1 & 5 & 0 & 4 & 3 & 5 & 5 & 9 & 14 & 17\\\\\n",
       "\t 2757 & 1992 & 2013 & 2 &  640 &  5 & corridor & individual\\_heating & management\\_in\\_trust & 200 & ⋯ & 1 & 5 & 1 & 4 & 3 & 5 & 5 & 3 & 16 & 17\\\\\n",
       "\t 1397 & 2006 & 2010 & 7 &  914 & 16 & terraced & individual\\_heating & management\\_in\\_trust & 249 & ⋯ & 1 & 0 & 0 & 2 & 2 & 1 & 2 & 5 &  3 &  7\\\\\n",
       "\t  510 & 1993 & 2009 & 1 &  644 & 17 & mixed    & individual\\_heating & management\\_in\\_trust & 523 & ⋯ & 1 & 5 & 0 & 4 & 3 & 5 & 5 & 4 & 14 & 17\\\\\n",
       "\t 4985 & 2007 & 2016 & 7 & 1334 & 23 & terraced & individual\\_heating & management\\_in\\_trust &   7 & ⋯ & 1 & 0 & 1 & 2 & 1 & 1 & 1 & 5 &  9 &  5\\\\\n",
       "\\end{tabular}\n"
      ],
      "text/markdown": [
       "\n",
       "A tibble: 6 × 30\n",
       "\n",
       "| ...1 &lt;dbl&gt; | YearBuilt &lt;dbl&gt; | YrSold &lt;dbl&gt; | MonthSold &lt;dbl&gt; | Size.sqf. &lt;dbl&gt; | Floor &lt;dbl&gt; | HallwayType &lt;chr&gt; | HeatingType &lt;chr&gt; | AptManageType &lt;chr&gt; | N_Parkinglot.Ground. &lt;dbl&gt; | ⋯ ⋯ | N_FacilitiesNearBy.Mall. &lt;dbl&gt; | N_FacilitiesNearBy.ETC. &lt;dbl&gt; | N_FacilitiesNearBy.Park. &lt;dbl&gt; | N_SchoolNearBy.Elementary. &lt;dbl&gt; | N_SchoolNearBy.Middle. &lt;dbl&gt; | N_SchoolNearBy.High. &lt;dbl&gt; | N_SchoolNearBy.University. &lt;dbl&gt; | N_FacilitiesInApt &lt;dbl&gt; | N_FacilitiesNearBy.Total. &lt;dbl&gt; | N_SchoolNearBy.Total. &lt;dbl&gt; |\n",
       "|---|---|---|---|---|---|---|---|---|---|---|---|---|---|---|---|---|---|---|---|---|\n",
       "| 3016 | 2013 | 2013 | 6 |  910 | 18 | terraced | individual_heating | management_in_trust |   8 | ⋯ | 1 | 0 | 1 | 4 | 2 | 2 | 3 | 7 |  9 | 11 |\n",
       "| 5492 | 2014 | 2017 | 4 |  640 | 25 | terraced | individual_heating | management_in_trust |  90 | ⋯ | 1 | 5 | 0 | 4 | 3 | 5 | 5 | 9 | 14 | 17 |\n",
       "| 2757 | 1992 | 2013 | 2 |  640 |  5 | corridor | individual_heating | management_in_trust | 200 | ⋯ | 1 | 5 | 1 | 4 | 3 | 5 | 5 | 3 | 16 | 17 |\n",
       "| 1397 | 2006 | 2010 | 7 |  914 | 16 | terraced | individual_heating | management_in_trust | 249 | ⋯ | 1 | 0 | 0 | 2 | 2 | 1 | 2 | 5 |  3 |  7 |\n",
       "|  510 | 1993 | 2009 | 1 |  644 | 17 | mixed    | individual_heating | management_in_trust | 523 | ⋯ | 1 | 5 | 0 | 4 | 3 | 5 | 5 | 4 | 14 | 17 |\n",
       "| 4985 | 2007 | 2016 | 7 | 1334 | 23 | terraced | individual_heating | management_in_trust |   7 | ⋯ | 1 | 0 | 1 | 2 | 1 | 1 | 1 | 5 |  9 |  5 |\n",
       "\n"
      ],
      "text/plain": [
       "  ...1 YearBuilt YrSold MonthSold Size.sqf. Floor HallwayType\n",
       "1 3016 2013      2013   6          910      18    terraced   \n",
       "2 5492 2014      2017   4          640      25    terraced   \n",
       "3 2757 1992      2013   2          640       5    corridor   \n",
       "4 1397 2006      2010   7          914      16    terraced   \n",
       "5  510 1993      2009   1          644      17    mixed      \n",
       "6 4985 2007      2016   7         1334      23    terraced   \n",
       "  HeatingType        AptManageType       N_Parkinglot.Ground. ⋯\n",
       "1 individual_heating management_in_trust   8                  ⋯\n",
       "2 individual_heating management_in_trust  90                  ⋯\n",
       "3 individual_heating management_in_trust 200                  ⋯\n",
       "4 individual_heating management_in_trust 249                  ⋯\n",
       "5 individual_heating management_in_trust 523                  ⋯\n",
       "6 individual_heating management_in_trust   7                  ⋯\n",
       "  N_FacilitiesNearBy.Mall. N_FacilitiesNearBy.ETC. N_FacilitiesNearBy.Park.\n",
       "1 1                        0                       1                       \n",
       "2 1                        5                       0                       \n",
       "3 1                        5                       1                       \n",
       "4 1                        0                       0                       \n",
       "5 1                        5                       0                       \n",
       "6 1                        0                       1                       \n",
       "  N_SchoolNearBy.Elementary. N_SchoolNearBy.Middle. N_SchoolNearBy.High.\n",
       "1 4                          2                      2                   \n",
       "2 4                          3                      5                   \n",
       "3 4                          3                      5                   \n",
       "4 2                          2                      1                   \n",
       "5 4                          3                      5                   \n",
       "6 2                          1                      1                   \n",
       "  N_SchoolNearBy.University. N_FacilitiesInApt N_FacilitiesNearBy.Total.\n",
       "1 3                          7                  9                       \n",
       "2 5                          9                 14                       \n",
       "3 5                          3                 16                       \n",
       "4 2                          5                  3                       \n",
       "5 5                          4                 14                       \n",
       "6 1                          5                  9                       \n",
       "  N_SchoolNearBy.Total.\n",
       "1 11                   \n",
       "2 17                   \n",
       "3 17                   \n",
       "4  7                   \n",
       "5 17                   \n",
       "6  5                   "
      ]
     },
     "metadata": {},
     "output_type": "display_data"
    }
   ],
   "source": [
    "ruta <- \"Test real state.csv\"\n",
    "data <- read_csv(ruta)\n",
    "head(data)"
   ]
  },
  {
   "cell_type": "code",
   "execution_count": 11,
   "id": "746fa2c8",
   "metadata": {
    "vscode": {
     "languageId": "r"
    }
   },
   "outputs": [],
   "source": [
    "#View(data)"
   ]
  },
  {
   "cell_type": "code",
   "execution_count": 9,
   "id": "e251f7d3",
   "metadata": {
    "vscode": {
     "languageId": "r"
    }
   },
   "outputs": [
    {
     "name": "stdout",
     "output_type": "stream",
     "text": [
      "Rows: 1,767\n",
      "Columns: 30\n",
      "$ ...1                               \u001b[3m\u001b[90m<dbl>\u001b[39m\u001b[23m 3016, 5492, 2757, 1397, 510, 4985, …\n",
      "$ YearBuilt                          \u001b[3m\u001b[90m<dbl>\u001b[39m\u001b[23m 2013, 2014, 1992, 2006, 1993, 2007,…\n",
      "$ YrSold                             \u001b[3m\u001b[90m<dbl>\u001b[39m\u001b[23m 2013, 2017, 2013, 2010, 2009, 2016,…\n",
      "$ MonthSold                          \u001b[3m\u001b[90m<dbl>\u001b[39m\u001b[23m 6, 4, 2, 7, 1, 7, 8, 3, 9, 10, 6, 6…\n",
      "$ Size.sqf.                          \u001b[3m\u001b[90m<dbl>\u001b[39m\u001b[23m 910, 640, 640, 914, 644, 1334, 1448…\n",
      "$ Floor                              \u001b[3m\u001b[90m<dbl>\u001b[39m\u001b[23m 18, 25, 5, 16, 17, 23, 13, 22, 12, …\n",
      "$ HallwayType                        \u001b[3m\u001b[90m<chr>\u001b[39m\u001b[23m \"terraced\", \"terraced\", \"corridor\",…\n",
      "$ HeatingType                        \u001b[3m\u001b[90m<chr>\u001b[39m\u001b[23m \"individual_heating\", \"individual_h…\n",
      "$ AptManageType                      \u001b[3m\u001b[90m<chr>\u001b[39m\u001b[23m \"management_in_trust\", \"management_…\n",
      "$ N_Parkinglot.Ground.               \u001b[3m\u001b[90m<dbl>\u001b[39m\u001b[23m 8, 90, 200, 249, 523, 7, 142, 249, …\n",
      "$ N_Parkinglot.Basement.             \u001b[3m\u001b[90m<dbl>\u001b[39m\u001b[23m 930, 1174, 0, 536, 536, 605, 79, 53…\n",
      "$ TimeToBusStop                      \u001b[3m\u001b[90m<chr>\u001b[39m\u001b[23m \"0~5min\", \"0~5min\", \"5min~10min\", \"…\n",
      "$ TimeToSubway                       \u001b[3m\u001b[90m<chr>\u001b[39m\u001b[23m \"0-5min\", \"0-5min\", \"10min~15min\", …\n",
      "$ N_APT                              \u001b[3m\u001b[90m<dbl>\u001b[39m\u001b[23m 7, 10, 3, 6, 8, 2, 3, 6, 1, 1, 3, 2…\n",
      "$ N_manager                          \u001b[3m\u001b[90m<dbl>\u001b[39m\u001b[23m 6, 7, 5, 5, 8, 5, 4, 5, 3, 2, 3, 5,…\n",
      "$ N_elevators                        \u001b[3m\u001b[90m<dbl>\u001b[39m\u001b[23m 14, 20, 10, 11, 20, 5, 8, 11, 0, 5,…\n",
      "$ SubwayStation                      \u001b[3m\u001b[90m<chr>\u001b[39m\u001b[23m \"Kyungbuk_uni_hospital\", \"Myung-duk…\n",
      "$ N_FacilitiesNearBy.PublicOffice.   \u001b[3m\u001b[90m<dbl>\u001b[39m\u001b[23m 5, 7, 7, 1, 6, 4, 5, 1, 3, 2, 3, 4,…\n",
      "$ N_FacilitiesNearBy.Hospital.       \u001b[3m\u001b[90m<dbl>\u001b[39m\u001b[23m 1, 1, 1, 1, 2, 1, 1, 1, 1, 1, 1, 1,…\n",
      "$ N_FacilitiesNearBy.Dpartmentstore. \u001b[3m\u001b[90m<dbl>\u001b[39m\u001b[23m 1, 0, 1, 0, 0, 2, 1, 0, 2, 0, 1, 2,…\n",
      "$ N_FacilitiesNearBy.Mall.           \u001b[3m\u001b[90m<dbl>\u001b[39m\u001b[23m 1, 1, 1, 1, 1, 1, 1, 1, 1, 0, 1, 1,…\n",
      "$ N_FacilitiesNearBy.ETC.            \u001b[3m\u001b[90m<dbl>\u001b[39m\u001b[23m 0, 5, 5, 0, 5, 0, 1, 0, 0, 2, 2, 0,…\n",
      "$ N_FacilitiesNearBy.Park.           \u001b[3m\u001b[90m<dbl>\u001b[39m\u001b[23m 1, 0, 1, 0, 0, 1, 0, 0, 1, 1, 0, 1,…\n",
      "$ N_SchoolNearBy.Elementary.         \u001b[3m\u001b[90m<dbl>\u001b[39m\u001b[23m 4, 4, 4, 2, 4, 2, 3, 2, 2, 2, 4, 2,…\n",
      "$ N_SchoolNearBy.Middle.             \u001b[3m\u001b[90m<dbl>\u001b[39m\u001b[23m 2, 3, 3, 2, 3, 1, 3, 2, 2, 1, 3, 1,…\n",
      "$ N_SchoolNearBy.High.               \u001b[3m\u001b[90m<dbl>\u001b[39m\u001b[23m 2, 5, 5, 1, 5, 1, 4, 1, 2, 1, 3, 1,…\n",
      "$ N_SchoolNearBy.University.         \u001b[3m\u001b[90m<dbl>\u001b[39m\u001b[23m 3, 5, 5, 2, 5, 1, 4, 2, 2, 1, 1, 1,…\n",
      "$ N_FacilitiesInApt                  \u001b[3m\u001b[90m<dbl>\u001b[39m\u001b[23m 7, 9, 3, 5, 4, 5, 3, 5, 2, 5, 4, 5,…\n",
      "$ N_FacilitiesNearBy.Total.          \u001b[3m\u001b[90m<dbl>\u001b[39m\u001b[23m 9, 14, 16, 3, 14, 9, 9, 3, 8, 6, 8,…\n",
      "$ N_SchoolNearBy.Total.              \u001b[3m\u001b[90m<dbl>\u001b[39m\u001b[23m 11, 17, 17, 7, 17, 5, 14, 7, 8, 5, …\n"
     ]
    }
   ],
   "source": [
    "glimpse(data)"
   ]
  },
  {
   "cell_type": "markdown",
   "id": "1764475f",
   "metadata": {},
   "source": [
    "# Data Clasificación"
   ]
  }
 ],
 "metadata": {
  "kernelspec": {
   "display_name": "R (Conda)",
   "language": "R",
   "name": "r-conda"
  },
  "language_info": {
   "codemirror_mode": "r",
   "file_extension": ".r",
   "mimetype": "text/x-r-source",
   "name": "R",
   "pygments_lexer": "r",
   "version": "4.3.1"
  }
 },
 "nbformat": 4,
 "nbformat_minor": 5
}
