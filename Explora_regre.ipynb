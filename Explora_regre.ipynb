{
 "cells": [
  {
   "cell_type": "code",
   "execution_count": 1,
   "id": "60f0b2f4",
   "metadata": {
    "vscode": {
     "languageId": "r"
    }
   },
   "outputs": [
    {
     "name": "stderr",
     "output_type": "stream",
     "text": [
      "\n",
      "Attaching package: ‘dplyr’\n",
      "\n",
      "\n",
      "The following objects are masked from ‘package:stats’:\n",
      "\n",
      "    filter, lag\n",
      "\n",
      "\n",
      "The following objects are masked from ‘package:base’:\n",
      "\n",
      "    intersect, setdiff, setequal, union\n",
      "\n",
      "\n",
      "Warning message:\n",
      "“package ‘car’ was built under R version 4.3.3”\n",
      "Loading required package: carData\n",
      "\n",
      "Warning message:\n",
      "“package ‘carData’ was built under R version 4.3.3”\n",
      "\n",
      "Attaching package: ‘car’\n",
      "\n",
      "\n",
      "The following object is masked from ‘package:dplyr’:\n",
      "\n",
      "    recode\n",
      "\n",
      "\n",
      "Warning message:\n",
      "“package ‘explore’ was built under R version 4.3.3”\n",
      "Warning message:\n",
      "“package ‘psych’ was built under R version 4.3.3”\n",
      "\n",
      "Attaching package: ‘psych’\n",
      "\n",
      "\n",
      "The following object is masked from ‘package:explore’:\n",
      "\n",
      "    describe\n",
      "\n",
      "\n",
      "The following object is masked from ‘package:car’:\n",
      "\n",
      "    logit\n",
      "\n",
      "\n",
      "Warning message:\n",
      "“package ‘corrplot’ was built under R version 4.3.3”\n",
      "corrplot 0.95 loaded\n",
      "\n"
     ]
    }
   ],
   "source": [
    "# Librerías\n",
    "library(readxl)\n",
    "library(readxl)\n",
    "library(dplyr)\n",
    "library(car)\n",
    "library(explore)\n",
    "library(psych)\n",
    "library(corrplot)\n",
    "library(readr)"
   ]
  },
  {
   "cell_type": "code",
   "execution_count": 32,
   "id": "ad9f40b8",
   "metadata": {
    "vscode": {
     "languageId": "r"
    }
   },
   "outputs": [],
   "source": [
    "options(scipen = 999)"
   ]
  },
  {
   "cell_type": "markdown",
   "id": "892e9f1c",
   "metadata": {},
   "source": [
    "# Data Regresión"
   ]
  },
  {
   "cell_type": "code",
   "execution_count": 27,
   "id": "ef37ab28",
   "metadata": {
    "vscode": {
     "languageId": "r"
    }
   },
   "outputs": [
    {
     "name": "stderr",
     "output_type": "stream",
     "text": [
      "\u001b[1m\u001b[22mNew names:\n",
      "\u001b[36m•\u001b[39m `` -> `...1`\n",
      "\u001b[1mRows: \u001b[22m\u001b[34m4124\u001b[39m \u001b[1mColumns: \u001b[22m\u001b[34m31\u001b[39m\n",
      "\u001b[36m──\u001b[39m \u001b[1mColumn specification\u001b[22m \u001b[36m────────────────────────────────────────────────────────────────────────────────────────────────────────────────────────────────────────────────────────────────────────────────\u001b[39m\n",
      "\u001b[1mDelimiter:\u001b[22m \",\"\n",
      "\u001b[31mchr\u001b[39m  (6): HallwayType, HeatingType, AptManageType, TimeToBusStop, TimeToSubway, SubwayStation\n",
      "\u001b[32mdbl\u001b[39m (25): ...1, SalePrice, YearBuilt, YrSold, MonthSold, Size.sqf., Floor, N_Parkinglot.Ground., N_Parkinglot.Basement., N_APT, N_manager, N_elevators, N_FacilitiesNearBy.PublicOffice., N_Faciliti...\n",
      "\n",
      "\u001b[36mℹ\u001b[39m Use `spec()` to retrieve the full column specification for this data.\n",
      "\u001b[36mℹ\u001b[39m Specify the column types or set `show_col_types = FALSE` to quiet this message.\n"
     ]
    },
    {
     "data": {
      "text/html": [
       "<table class=\"dataframe\">\n",
       "<caption>A tibble: 6 × 31</caption>\n",
       "<thead>\n",
       "\t<tr><th scope=col>...1</th><th scope=col>SalePrice</th><th scope=col>YearBuilt</th><th scope=col>YrSold</th><th scope=col>MonthSold</th><th scope=col>Size.sqf.</th><th scope=col>Floor</th><th scope=col>HallwayType</th><th scope=col>HeatingType</th><th scope=col>AptManageType</th><th scope=col>⋯</th><th scope=col>N_FacilitiesNearBy.Mall.</th><th scope=col>N_FacilitiesNearBy.ETC.</th><th scope=col>N_FacilitiesNearBy.Park.</th><th scope=col>N_SchoolNearBy.Elementary.</th><th scope=col>N_SchoolNearBy.Middle.</th><th scope=col>N_SchoolNearBy.High.</th><th scope=col>N_SchoolNearBy.University.</th><th scope=col>N_FacilitiesInApt</th><th scope=col>N_FacilitiesNearBy.Total.</th><th scope=col>N_SchoolNearBy.Total.</th></tr>\n",
       "\t<tr><th scope=col>&lt;dbl&gt;</th><th scope=col>&lt;dbl&gt;</th><th scope=col>&lt;dbl&gt;</th><th scope=col>&lt;dbl&gt;</th><th scope=col>&lt;dbl&gt;</th><th scope=col>&lt;dbl&gt;</th><th scope=col>&lt;dbl&gt;</th><th scope=col>&lt;chr&gt;</th><th scope=col>&lt;chr&gt;</th><th scope=col>&lt;chr&gt;</th><th scope=col>⋯</th><th scope=col>&lt;dbl&gt;</th><th scope=col>&lt;dbl&gt;</th><th scope=col>&lt;dbl&gt;</th><th scope=col>&lt;dbl&gt;</th><th scope=col>&lt;dbl&gt;</th><th scope=col>&lt;dbl&gt;</th><th scope=col>&lt;dbl&gt;</th><th scope=col>&lt;dbl&gt;</th><th scope=col>&lt;dbl&gt;</th><th scope=col>&lt;dbl&gt;</th></tr>\n",
       "</thead>\n",
       "<tbody>\n",
       "\t<tr><td>1</td><td>141592</td><td>2006</td><td>2007</td><td>8</td><td> 814</td><td> 3</td><td>terraced</td><td>individual_heating</td><td>management_in_trust</td><td>⋯</td><td>1</td><td>1</td><td>0</td><td>3</td><td>2</td><td>2</td><td>2</td><td>5</td><td> 6</td><td> 9</td></tr>\n",
       "\t<tr><td>2</td><td> 51327</td><td>1985</td><td>2007</td><td>8</td><td> 587</td><td> 8</td><td>corridor</td><td>individual_heating</td><td>self_management    </td><td>⋯</td><td>1</td><td>2</td><td>1</td><td>2</td><td>1</td><td>1</td><td>0</td><td>3</td><td>12</td><td> 4</td></tr>\n",
       "\t<tr><td>3</td><td> 48672</td><td>1985</td><td>2007</td><td>8</td><td> 587</td><td> 6</td><td>corridor</td><td>individual_heating</td><td>self_management    </td><td>⋯</td><td>1</td><td>2</td><td>1</td><td>2</td><td>1</td><td>1</td><td>0</td><td>3</td><td>12</td><td> 4</td></tr>\n",
       "\t<tr><td>5</td><td>221238</td><td>1993</td><td>2007</td><td>8</td><td>1761</td><td> 3</td><td>mixed   </td><td>individual_heating</td><td>management_in_trust</td><td>⋯</td><td>1</td><td>5</td><td>0</td><td>4</td><td>3</td><td>5</td><td>5</td><td>4</td><td>14</td><td>17</td></tr>\n",
       "\t<tr><td>7</td><td> 78318</td><td>1992</td><td>2007</td><td>8</td><td> 644</td><td> 2</td><td>mixed   </td><td>individual_heating</td><td>self_management    </td><td>⋯</td><td>1</td><td>1</td><td>0</td><td>3</td><td>3</td><td>4</td><td>4</td><td>3</td><td> 9</td><td>14</td></tr>\n",
       "\t<tr><td>8</td><td> 61946</td><td>1993</td><td>2007</td><td>8</td><td> 644</td><td>10</td><td>mixed   </td><td>individual_heating</td><td>management_in_trust</td><td>⋯</td><td>1</td><td>5</td><td>0</td><td>4</td><td>3</td><td>5</td><td>5</td><td>4</td><td>14</td><td>17</td></tr>\n",
       "</tbody>\n",
       "</table>\n"
      ],
      "text/latex": [
       "A tibble: 6 × 31\n",
       "\\begin{tabular}{lllllllllllllllllllll}\n",
       " ...1 & SalePrice & YearBuilt & YrSold & MonthSold & Size.sqf. & Floor & HallwayType & HeatingType & AptManageType & ⋯ & N\\_FacilitiesNearBy.Mall. & N\\_FacilitiesNearBy.ETC. & N\\_FacilitiesNearBy.Park. & N\\_SchoolNearBy.Elementary. & N\\_SchoolNearBy.Middle. & N\\_SchoolNearBy.High. & N\\_SchoolNearBy.University. & N\\_FacilitiesInApt & N\\_FacilitiesNearBy.Total. & N\\_SchoolNearBy.Total.\\\\\n",
       " <dbl> & <dbl> & <dbl> & <dbl> & <dbl> & <dbl> & <dbl> & <chr> & <chr> & <chr> & ⋯ & <dbl> & <dbl> & <dbl> & <dbl> & <dbl> & <dbl> & <dbl> & <dbl> & <dbl> & <dbl>\\\\\n",
       "\\hline\n",
       "\t 1 & 141592 & 2006 & 2007 & 8 &  814 &  3 & terraced & individual\\_heating & management\\_in\\_trust & ⋯ & 1 & 1 & 0 & 3 & 2 & 2 & 2 & 5 &  6 &  9\\\\\n",
       "\t 2 &  51327 & 1985 & 2007 & 8 &  587 &  8 & corridor & individual\\_heating & self\\_management     & ⋯ & 1 & 2 & 1 & 2 & 1 & 1 & 0 & 3 & 12 &  4\\\\\n",
       "\t 3 &  48672 & 1985 & 2007 & 8 &  587 &  6 & corridor & individual\\_heating & self\\_management     & ⋯ & 1 & 2 & 1 & 2 & 1 & 1 & 0 & 3 & 12 &  4\\\\\n",
       "\t 5 & 221238 & 1993 & 2007 & 8 & 1761 &  3 & mixed    & individual\\_heating & management\\_in\\_trust & ⋯ & 1 & 5 & 0 & 4 & 3 & 5 & 5 & 4 & 14 & 17\\\\\n",
       "\t 7 &  78318 & 1992 & 2007 & 8 &  644 &  2 & mixed    & individual\\_heating & self\\_management     & ⋯ & 1 & 1 & 0 & 3 & 3 & 4 & 4 & 3 &  9 & 14\\\\\n",
       "\t 8 &  61946 & 1993 & 2007 & 8 &  644 & 10 & mixed    & individual\\_heating & management\\_in\\_trust & ⋯ & 1 & 5 & 0 & 4 & 3 & 5 & 5 & 4 & 14 & 17\\\\\n",
       "\\end{tabular}\n"
      ],
      "text/markdown": [
       "\n",
       "A tibble: 6 × 31\n",
       "\n",
       "| ...1 &lt;dbl&gt; | SalePrice &lt;dbl&gt; | YearBuilt &lt;dbl&gt; | YrSold &lt;dbl&gt; | MonthSold &lt;dbl&gt; | Size.sqf. &lt;dbl&gt; | Floor &lt;dbl&gt; | HallwayType &lt;chr&gt; | HeatingType &lt;chr&gt; | AptManageType &lt;chr&gt; | ⋯ ⋯ | N_FacilitiesNearBy.Mall. &lt;dbl&gt; | N_FacilitiesNearBy.ETC. &lt;dbl&gt; | N_FacilitiesNearBy.Park. &lt;dbl&gt; | N_SchoolNearBy.Elementary. &lt;dbl&gt; | N_SchoolNearBy.Middle. &lt;dbl&gt; | N_SchoolNearBy.High. &lt;dbl&gt; | N_SchoolNearBy.University. &lt;dbl&gt; | N_FacilitiesInApt &lt;dbl&gt; | N_FacilitiesNearBy.Total. &lt;dbl&gt; | N_SchoolNearBy.Total. &lt;dbl&gt; |\n",
       "|---|---|---|---|---|---|---|---|---|---|---|---|---|---|---|---|---|---|---|---|---|\n",
       "| 1 | 141592 | 2006 | 2007 | 8 |  814 |  3 | terraced | individual_heating | management_in_trust | ⋯ | 1 | 1 | 0 | 3 | 2 | 2 | 2 | 5 |  6 |  9 |\n",
       "| 2 |  51327 | 1985 | 2007 | 8 |  587 |  8 | corridor | individual_heating | self_management     | ⋯ | 1 | 2 | 1 | 2 | 1 | 1 | 0 | 3 | 12 |  4 |\n",
       "| 3 |  48672 | 1985 | 2007 | 8 |  587 |  6 | corridor | individual_heating | self_management     | ⋯ | 1 | 2 | 1 | 2 | 1 | 1 | 0 | 3 | 12 |  4 |\n",
       "| 5 | 221238 | 1993 | 2007 | 8 | 1761 |  3 | mixed    | individual_heating | management_in_trust | ⋯ | 1 | 5 | 0 | 4 | 3 | 5 | 5 | 4 | 14 | 17 |\n",
       "| 7 |  78318 | 1992 | 2007 | 8 |  644 |  2 | mixed    | individual_heating | self_management     | ⋯ | 1 | 1 | 0 | 3 | 3 | 4 | 4 | 3 |  9 | 14 |\n",
       "| 8 |  61946 | 1993 | 2007 | 8 |  644 | 10 | mixed    | individual_heating | management_in_trust | ⋯ | 1 | 5 | 0 | 4 | 3 | 5 | 5 | 4 | 14 | 17 |\n",
       "\n"
      ],
      "text/plain": [
       "  ...1 SalePrice YearBuilt YrSold MonthSold Size.sqf. Floor HallwayType HeatingType        AptManageType       ⋯ N_FacilitiesNearBy.Mall. N_FacilitiesNearBy.ETC. N_FacilitiesNearBy.Park.\n",
       "1 1    141592    2006      2007   8          814       3    terraced    individual_heating management_in_trust ⋯ 1                        1                       0                       \n",
       "2 2     51327    1985      2007   8          587       8    corridor    individual_heating self_management     ⋯ 1                        2                       1                       \n",
       "3 3     48672    1985      2007   8          587       6    corridor    individual_heating self_management     ⋯ 1                        2                       1                       \n",
       "4 5    221238    1993      2007   8         1761       3    mixed       individual_heating management_in_trust ⋯ 1                        5                       0                       \n",
       "5 7     78318    1992      2007   8          644       2    mixed       individual_heating self_management     ⋯ 1                        1                       0                       \n",
       "6 8     61946    1993      2007   8          644      10    mixed       individual_heating management_in_trust ⋯ 1                        5                       0                       \n",
       "  N_SchoolNearBy.Elementary. N_SchoolNearBy.Middle. N_SchoolNearBy.High. N_SchoolNearBy.University. N_FacilitiesInApt N_FacilitiesNearBy.Total. N_SchoolNearBy.Total.\n",
       "1 3                          2                      2                    2                          5                  6                         9                   \n",
       "2 2                          1                      1                    0                          3                 12                         4                   \n",
       "3 2                          1                      1                    0                          3                 12                         4                   \n",
       "4 4                          3                      5                    5                          4                 14                        17                   \n",
       "5 3                          3                      4                    4                          3                  9                        14                   \n",
       "6 4                          3                      5                    5                          4                 14                        17                   "
      ]
     },
     "metadata": {},
     "output_type": "display_data"
    }
   ],
   "source": [
    "ruta <- \"Train real state.csv\"\n",
    "data <- read_csv(ruta)\n",
    "#data <- read_csv(\"Test real state.csv\", col_names = c(\"ID\", \"SalePrice\", \"YearBuilt\", \"YrSold\", \"MonthSold\", \"Size.sqf.\", \"Floor\", \"HallwayType\", \"HeatingType\", \"AptManageType\", \"N_Parkinglot.Ground.\", \"N_Parkinglot.Basement.\", \"TimeToBusStop\", \"TimeToSubway\", \"N_APT\", \"N_manager\", \"N_elevators\", \"SubwayStation\", \"N_FacilitiesNearBy.PublicOffice.\", \"N_FacilitiesNearBy.Hospital.\", \"N_FacilitiesNearBy.Dpartmentstore.\", \"N_FacilitiesNearBy.Mall.\", \"N_FacilitiesNearBy.ETC.\", \"N_FacilitiesNearBy.Park.\", \"N_SchoolNearBy.Elementary.\", \"N_SchoolNearBy.Middle.\", \"N_SchoolNearBy.High.\", \"N_SchoolNearBy.University.\", \"N_FacilitiesInApt\", \"N_FacilitiesNearBy.Total.\", \"N_SchoolNearBy.Total.\"))\n",
    "#data <- read_csv(\"Train real state.csv\", col_names = TRUE)\n",
    "#names(data)[1] <- \"ID\"\n",
    "#options(width = 200)\n",
    "head(data)"
   ]
  },
  {
   "cell_type": "code",
   "execution_count": 22,
   "id": "746fa2c8",
   "metadata": {
    "vscode": {
     "languageId": "r"
    }
   },
   "outputs": [],
   "source": [
    "#View(data)#"
   ]
  },
  {
   "cell_type": "code",
   "execution_count": null,
   "id": "e251f7d3",
   "metadata": {
    "vscode": {
     "languageId": "r"
    }
   },
   "outputs": [
    {
     "name": "stdout",
     "output_type": "stream",
     "text": [
      "Rows: 4,124\n",
      "Columns: 31\n",
      "$ ...1                               \u001b[3m\u001b[90m<dbl>\u001b[39m\u001b[23m 1, 2, 3, 5, 7, 8, 10, 11, 12, 13, 14, 16, 17, 19, 20, 22, 23, 25, 26, 27, 29, 30, 31, 33, 35, 38, 39, 40, 41, 43, 44, 46, 47, 48, 50, 51, 53, 59, 60, 61, 6…\n",
      "$ SalePrice                          \u001b[3m\u001b[90m<dbl>\u001b[39m\u001b[23m 141592, 51327, 48672, 221238, 78318, 61946, 83185, 168141, 153982, 200884, 60176, 185840, 120796, 176991, 55752, 92035, 181061, 198230, 185840, 448672, 167…\n",
      "$ YearBuilt                          \u001b[3m\u001b[90m<dbl>\u001b[39m\u001b[23m 2006, 1985, 1985, 1993, 1992, 1993, 1992, 1986, 1986, 2007, 1985, 1993, 1993, 1993, 1992, 1993, 2007, 2007, 2007, 2007, 2006, 2007, 1997, 1985, 1993, 1993,…\n",
      "$ YrSold                             \u001b[3m\u001b[90m<dbl>\u001b[39m\u001b[23m 2007, 2007, 2007, 2007, 2007, 2007, 2007, 2007, 2007, 2007, 2007, 2007, 2007, 2007, 2007, 2007, 2007, 2007, 2007, 2007, 2007, 2007, 2007, 2007, 2007, 2007,…\n",
      "$ MonthSold                          \u001b[3m\u001b[90m<dbl>\u001b[39m\u001b[23m 8, 8, 8, 8, 8, 8, 8, 8, 8, 8, 9, 9, 9, 9, 9, 9, 9, 9, 9, 9, 9, 9, 10, 10, 10, 10, 10, 10, 10, 10, 10, 10, 10, 10, 10, 10, 10, 11, 11, 11, 11, 11, 11, 11, 1…\n",
      "$ Size.sqf.                          \u001b[3m\u001b[90m<dbl>\u001b[39m\u001b[23m 814, 587, 587, 1761, 644, 644, 644, 1377, 914, 868, 587, 1288, 914, 1451, 576, 644, 868, 868, 868, 1643, 903, 868, 644, 676, 1761, 914, 355, 355, 644, 914,…\n",
      "$ Floor                              \u001b[3m\u001b[90m<dbl>\u001b[39m\u001b[23m 3, 8, 6, 3, 2, 10, 13, 4, 11, 18, 7, 24, 2, 1, 1, 20, 18, 12, 3, 39, 10, 13, 15, 7, 15, 9, 5, 1, 18, 16, 7, 11, 12, 8, 14, 8, 7, 16, 22, 4, 3, 3, 3, 25, 3,…\n",
      "$ HallwayType                        \u001b[3m\u001b[90m<chr>\u001b[39m\u001b[23m \"terraced\", \"corridor\", \"corridor\", \"mixed\", \"mixed\", \"mixed\", \"mixed\", \"terraced\", \"terraced\", \"terraced\", \"corridor\", \"mixed\", \"mixed\", \"mixed\", \"corrido…\n",
      "$ HeatingType                        \u001b[3m\u001b[90m<chr>\u001b[39m\u001b[23m \"individual_heating\", \"individual_heating\", \"individual_heating\", \"individual_heating\", \"individual_heating\", \"individual_heating\", \"individual_heating\", \"…\n",
      "$ AptManageType                      \u001b[3m\u001b[90m<chr>\u001b[39m\u001b[23m \"management_in_trust\", \"self_management\", \"self_management\", \"management_in_trust\", \"self_management\", \"management_in_trust\", \"self_management\", \"managemen…\n",
      "$ N_Parkinglot.Ground.               \u001b[3m\u001b[90m<dbl>\u001b[39m\u001b[23m 111, 80, 80, 523, 142, 523, 142, 713, 713, 0, 80, 523, 523, 523, 200, 523, 0, 0, 0, 0, 123, 0, 82, 80, 523, 523, 200, 200, 523, 523, 142, 142, 523, 200, 52…\n",
      "$ N_Parkinglot.Basement.             \u001b[3m\u001b[90m<dbl>\u001b[39m\u001b[23m 184, 76, 76, 536, 79, 536, 79, 0, 0, 1270, 76, 536, 536, 536, 0, 536, 1270, 1270, 1270, 1270, 181, 1270, 56, 76, 536, 536, 0, 0, 536, 536, 79, 79, 536, 0, …\n",
      "$ TimeToBusStop                      \u001b[3m\u001b[90m<chr>\u001b[39m\u001b[23m \"5min~10min\", \"0~5min\", \"0~5min\", \"0~5min\", \"5min~10min\", \"0~5min\", \"5min~10min\", \"0~5min\", \"0~5min\", \"0~5min\", \"0~5min\", \"0~5min\", \"0~5min\", \"0~5min\", \"5m…\n",
      "$ TimeToSubway                       \u001b[3m\u001b[90m<chr>\u001b[39m\u001b[23m \"10min~15min\", \"5min~10min\", \"5min~10min\", \"15min~20min\", \"15min~20min\", \"15min~20min\", \"15min~20min\", \"10min~15min\", \"10min~15min\", \"0-5min\", \"5min~10min\"…\n",
      "$ N_APT                              \u001b[3m\u001b[90m<dbl>\u001b[39m\u001b[23m 3, 1, 1, 8, 3, 8, 3, 7, 7, 7, 1, 8, 8, 8, 3, 8, 7, 7, 7, 7, 3, 7, 1, 1, 8, 8, 3, 3, 8, 8, 3, 3, 8, 3, 8, 8, 7, 2, 2, 2, 2, 2, 2, 2, 2, 2, 2, 2, 2, 2, 2, 1,…\n",
      "$ N_manager                          \u001b[3m\u001b[90m<dbl>\u001b[39m\u001b[23m 3, 2, 2, 8, 4, 8, 4, 8, 8, 14, 2, 8, 8, 8, 5, 8, 14, 14, 14, 14, 3, 14, 2, 2, 8, 8, 5, 5, 8, 8, 4, 4, 8, 5, 8, 6, 14, 5, 5, 5, 5, 5, 5, 5, 5, 5, 5, 5, 5, 5…\n",
      "$ N_elevators                        \u001b[3m\u001b[90m<dbl>\u001b[39m\u001b[23m 0, 2, 2, 20, 8, 20, 8, 27, 27, 16, 2, 20, 20, 20, 10, 20, 16, 16, 16, 16, 11, 16, 4, 2, 20, 20, 10, 10, 20, 20, 8, 8, 20, 10, 20, 0, 16, 5, 5, 5, 5, 5, 5, …\n",
      "$ SubwayStation                      \u001b[3m\u001b[90m<chr>\u001b[39m\u001b[23m \"Kyungbuk_uni_hospital\", \"Daegu\", \"Daegu\", \"Myung-duk\", \"Myung-duk\", \"Myung-duk\", \"Myung-duk\", \"Kyungbuk_uni_hospital\", \"Kyungbuk_uni_hospital\", \"Kyungbuk_…\n",
      "$ N_FacilitiesNearBy.PublicOffice.   \u001b[3m\u001b[90m<dbl>\u001b[39m\u001b[23m 2, 5, 5, 6, 5, 6, 5, 5, 5, 3, 5, 6, 6, 6, 7, 6, 3, 3, 3, 3, 3, 3, 7, 5, 6, 6, 7, 7, 6, 6, 5, 5, 6, 7, 6, 5, 3, 4, 4, 4, 4, 4, 4, 4, 4, 4, 4, 4, 4, 4, 4, 5,…\n",
      "$ N_FacilitiesNearBy.Hospital.       \u001b[3m\u001b[90m<dbl>\u001b[39m\u001b[23m 1, 1, 1, 2, 1, 2, 1, 1, 1, 1, 1, 2, 2, 2, 1, 2, 1, 1, 1, 1, 1, 1, 1, 1, 2, 2, 1, 1, 2, 2, 1, 1, 2, 1, 2, 2, 1, 1, 1, 1, 1, 1, 1, 1, 1, 1, 1, 1, 1, 1, 1, 1,…\n",
      "$ N_FacilitiesNearBy.Dpartmentstore. \u001b[3m\u001b[90m<dbl>\u001b[39m\u001b[23m 1, 2, 2, 0, 1, 0, 1, 1, 1, 2, 2, 0, 0, 0, 1, 0, 2, 2, 2, 2, 1, 2, 2, 2, 0, 0, 1, 1, 0, 0, 1, 1, 0, 1, 0, 0, 2, 2, 2, 2, 2, 2, 2, 2, 2, 2, 2, 2, 2, 2, 2, 2,…\n",
      "$ N_FacilitiesNearBy.Mall.           \u001b[3m\u001b[90m<dbl>\u001b[39m\u001b[23m 1, 1, 1, 1, 1, 1, 1, 0, 0, 1, 1, 1, 1, 1, 1, 1, 1, 1, 1, 1, 1, 1, 1, 1, 1, 1, 1, 1, 1, 1, 1, 1, 1, 1, 1, 1, 1, 1, 1, 1, 1, 1, 1, 1, 1, 1, 1, 1, 1, 1, 1, 1,…\n",
      "$ N_FacilitiesNearBy.ETC.            \u001b[3m\u001b[90m<dbl>\u001b[39m\u001b[23m 1, 2, 2, 5, 1, 5, 1, 1, 1, 0, 2, 5, 5, 5, 5, 5, 0, 0, 0, 0, 2, 0, 1, 2, 5, 5, 5, 5, 5, 5, 1, 1, 5, 5, 5, 5, 0, 0, 0, 0, 0, 0, 0, 0, 0, 0, 0, 0, 0, 0, 0, 1,…\n",
      "$ N_FacilitiesNearBy.Park.           \u001b[3m\u001b[90m<dbl>\u001b[39m\u001b[23m 0, 1, 1, 0, 0, 0, 0, 1, 1, 2, 1, 0, 0, 0, 1, 0, 2, 2, 2, 2, 0, 2, 1, 1, 0, 0, 1, 1, 0, 0, 0, 0, 0, 1, 0, 0, 2, 1, 1, 1, 1, 1, 1, 1, 1, 1, 1, 1, 1, 1, 1, 1,…\n",
      "$ N_SchoolNearBy.Elementary.         \u001b[3m\u001b[90m<dbl>\u001b[39m\u001b[23m 3, 2, 2, 4, 3, 4, 3, 3, 3, 3, 2, 4, 4, 4, 4, 4, 3, 3, 3, 3, 4, 3, 4, 2, 4, 4, 4, 4, 4, 4, 3, 3, 4, 4, 4, 3, 3, 2, 2, 2, 2, 2, 2, 2, 2, 2, 2, 2, 2, 2, 2, 6,…\n",
      "$ N_SchoolNearBy.Middle.             \u001b[3m\u001b[90m<dbl>\u001b[39m\u001b[23m 2, 1, 1, 3, 3, 3, 3, 1, 1, 3, 1, 3, 3, 3, 3, 3, 3, 3, 3, 3, 3, 3, 0, 1, 3, 3, 3, 3, 3, 3, 3, 3, 3, 3, 3, 4, 3, 1, 1, 1, 1, 1, 1, 1, 1, 1, 1, 1, 1, 1, 1, 2,…\n",
      "$ N_SchoolNearBy.High.               \u001b[3m\u001b[90m<dbl>\u001b[39m\u001b[23m 2, 1, 1, 5, 4, 5, 4, 1, 1, 2, 1, 5, 5, 5, 5, 5, 2, 2, 2, 2, 3, 2, 0, 1, 5, 5, 5, 5, 5, 5, 4, 4, 5, 5, 5, 4, 2, 1, 1, 1, 1, 1, 1, 1, 1, 1, 1, 1, 1, 1, 1, 3,…\n",
      "$ N_SchoolNearBy.University.         \u001b[3m\u001b[90m<dbl>\u001b[39m\u001b[23m 2, 0, 0, 5, 4, 5, 4, 1, 1, 2, 0, 5, 5, 5, 5, 5, 2, 2, 2, 2, 1, 2, 3, 0, 5, 5, 5, 5, 5, 5, 4, 4, 5, 5, 5, 4, 2, 1, 1, 1, 1, 1, 1, 1, 1, 1, 1, 1, 1, 1, 1, 2,…\n",
      "$ N_FacilitiesInApt                  \u001b[3m\u001b[90m<dbl>\u001b[39m\u001b[23m 5, 3, 3, 4, 3, 4, 3, 4, 4, 10, 3, 4, 4, 4, 3, 4, 10, 10, 10, 10, 4, 10, 5, 3, 4, 4, 3, 3, 4, 4, 3, 3, 4, 3, 4, 7, 10, 5, 5, 5, 5, 5, 5, 5, 5, 5, 5, 5, 5, 5…\n",
      "$ N_FacilitiesNearBy.Total.          \u001b[3m\u001b[90m<dbl>\u001b[39m\u001b[23m 6, 12, 12, 14, 9, 14, 9, 9, 9, 9, 12, 14, 14, 14, 16, 14, 9, 9, 9, 9, 8, 9, 13, 12, 14, 14, 16, 16, 14, 14, 9, 9, 14, 16, 14, 13, 9, 9, 9, 9, 9, 9, 9, 9, 9…\n",
      "$ N_SchoolNearBy.Total.              \u001b[3m\u001b[90m<dbl>\u001b[39m\u001b[23m 9, 4, 4, 17, 14, 17, 14, 6, 6, 10, 4, 17, 17, 17, 17, 17, 10, 10, 10, 10, 11, 10, 7, 4, 17, 17, 17, 17, 17, 17, 14, 14, 17, 17, 17, 15, 10, 5, 5, 5, 5, 5, …\n"
     ]
    }
   ],
   "source": [
    "glimpse(data) SalePrice, YearBuilt, YrSold, MonthSold, Size.sqf., Floor, N_Parkinglot.Ground. N_Parkinglot.Basement., N_APT, N_manager"
   ]
  },
  {
   "cell_type": "code",
   "execution_count": 29,
   "id": "bb2deb4e",
   "metadata": {
    "vscode": {
     "languageId": "r"
    }
   },
   "outputs": [
    {
     "data": {
      "text/html": [
       "<style>\n",
       ".list-inline {list-style: none; margin:0; padding: 0}\n",
       ".list-inline>li {display: inline-block}\n",
       ".list-inline>li:not(:last-child)::after {content: \"\\00b7\"; padding: 0 .5ex}\n",
       "</style>\n",
       "<ol class=list-inline><li>4124</li><li>31</li></ol>\n"
      ],
      "text/latex": [
       "\\begin{enumerate*}\n",
       "\\item 4124\n",
       "\\item 31\n",
       "\\end{enumerate*}\n"
      ],
      "text/markdown": [
       "1. 4124\n",
       "2. 31\n",
       "\n",
       "\n"
      ],
      "text/plain": [
       "[1] 4124   31"
      ]
     },
     "metadata": {},
     "output_type": "display_data"
    }
   ],
   "source": [
    "dim(data)"
   ]
  },
  {
   "cell_type": "code",
   "execution_count": 37,
   "id": "e69ee5de",
   "metadata": {
    "vscode": {
     "languageId": "r"
    }
   },
   "outputs": [
    {
     "data": {
      "text/html": [
       "<style>\n",
       ".dl-inline {width: auto; margin:0; padding: 0}\n",
       ".dl-inline>dt, .dl-inline>dd {float: none; width: auto; display: inline-block}\n",
       ".dl-inline>dt::after {content: \":\\0020\"; padding-right: .5ex}\n",
       ".dl-inline>dt:not(:first-of-type) {padding-left: .5ex}\n",
       "</style><dl class=dl-inline><dt>...1</dt><dd>0</dd><dt>SalePrice</dt><dd>0</dd><dt>YearBuilt</dt><dd>0</dd><dt>YrSold</dt><dd>0</dd><dt>MonthSold</dt><dd>0</dd><dt>Size.sqf.</dt><dd>0</dd><dt>Floor</dt><dd>0</dd><dt>HallwayType</dt><dd>0</dd><dt>HeatingType</dt><dd>0</dd><dt>AptManageType</dt><dd>0</dd><dt>N_Parkinglot.Ground.</dt><dd>0</dd><dt>N_Parkinglot.Basement.</dt><dd>0</dd><dt>TimeToBusStop</dt><dd>0</dd><dt>TimeToSubway</dt><dd>0</dd><dt>N_APT</dt><dd>0</dd><dt>N_manager</dt><dd>0</dd><dt>N_elevators</dt><dd>0</dd><dt>SubwayStation</dt><dd>0</dd><dt>N_FacilitiesNearBy.PublicOffice.</dt><dd>0</dd><dt>N_FacilitiesNearBy.Hospital.</dt><dd>0</dd><dt>N_FacilitiesNearBy.Dpartmentstore.</dt><dd>0</dd><dt>N_FacilitiesNearBy.Mall.</dt><dd>0</dd><dt>N_FacilitiesNearBy.ETC.</dt><dd>0</dd><dt>N_FacilitiesNearBy.Park.</dt><dd>0</dd><dt>N_SchoolNearBy.Elementary.</dt><dd>0</dd><dt>N_SchoolNearBy.Middle.</dt><dd>0</dd><dt>N_SchoolNearBy.High.</dt><dd>0</dd><dt>N_SchoolNearBy.University.</dt><dd>0</dd><dt>N_FacilitiesInApt</dt><dd>0</dd><dt>N_FacilitiesNearBy.Total.</dt><dd>0</dd><dt>N_SchoolNearBy.Total.</dt><dd>0</dd></dl>\n"
      ],
      "text/latex": [
       "\\begin{description*}\n",
       "\\item[...1] 0\n",
       "\\item[SalePrice] 0\n",
       "\\item[YearBuilt] 0\n",
       "\\item[YrSold] 0\n",
       "\\item[MonthSold] 0\n",
       "\\item[Size.sqf.] 0\n",
       "\\item[Floor] 0\n",
       "\\item[HallwayType] 0\n",
       "\\item[HeatingType] 0\n",
       "\\item[AptManageType] 0\n",
       "\\item[N\\textbackslash{}\\_Parkinglot.Ground.] 0\n",
       "\\item[N\\textbackslash{}\\_Parkinglot.Basement.] 0\n",
       "\\item[TimeToBusStop] 0\n",
       "\\item[TimeToSubway] 0\n",
       "\\item[N\\textbackslash{}\\_APT] 0\n",
       "\\item[N\\textbackslash{}\\_manager] 0\n",
       "\\item[N\\textbackslash{}\\_elevators] 0\n",
       "\\item[SubwayStation] 0\n",
       "\\item[N\\textbackslash{}\\_FacilitiesNearBy.PublicOffice.] 0\n",
       "\\item[N\\textbackslash{}\\_FacilitiesNearBy.Hospital.] 0\n",
       "\\item[N\\textbackslash{}\\_FacilitiesNearBy.Dpartmentstore.] 0\n",
       "\\item[N\\textbackslash{}\\_FacilitiesNearBy.Mall.] 0\n",
       "\\item[N\\textbackslash{}\\_FacilitiesNearBy.ETC.] 0\n",
       "\\item[N\\textbackslash{}\\_FacilitiesNearBy.Park.] 0\n",
       "\\item[N\\textbackslash{}\\_SchoolNearBy.Elementary.] 0\n",
       "\\item[N\\textbackslash{}\\_SchoolNearBy.Middle.] 0\n",
       "\\item[N\\textbackslash{}\\_SchoolNearBy.High.] 0\n",
       "\\item[N\\textbackslash{}\\_SchoolNearBy.University.] 0\n",
       "\\item[N\\textbackslash{}\\_FacilitiesInApt] 0\n",
       "\\item[N\\textbackslash{}\\_FacilitiesNearBy.Total.] 0\n",
       "\\item[N\\textbackslash{}\\_SchoolNearBy.Total.] 0\n",
       "\\end{description*}\n"
      ],
      "text/markdown": [
       "...1\n",
       ":   0SalePrice\n",
       ":   0YearBuilt\n",
       ":   0YrSold\n",
       ":   0MonthSold\n",
       ":   0Size.sqf.\n",
       ":   0Floor\n",
       ":   0HallwayType\n",
       ":   0HeatingType\n",
       ":   0AptManageType\n",
       ":   0N_Parkinglot.Ground.\n",
       ":   0N_Parkinglot.Basement.\n",
       ":   0TimeToBusStop\n",
       ":   0TimeToSubway\n",
       ":   0N_APT\n",
       ":   0N_manager\n",
       ":   0N_elevators\n",
       ":   0SubwayStation\n",
       ":   0N_FacilitiesNearBy.PublicOffice.\n",
       ":   0N_FacilitiesNearBy.Hospital.\n",
       ":   0N_FacilitiesNearBy.Dpartmentstore.\n",
       ":   0N_FacilitiesNearBy.Mall.\n",
       ":   0N_FacilitiesNearBy.ETC.\n",
       ":   0N_FacilitiesNearBy.Park.\n",
       ":   0N_SchoolNearBy.Elementary.\n",
       ":   0N_SchoolNearBy.Middle.\n",
       ":   0N_SchoolNearBy.High.\n",
       ":   0N_SchoolNearBy.University.\n",
       ":   0N_FacilitiesInApt\n",
       ":   0N_FacilitiesNearBy.Total.\n",
       ":   0N_SchoolNearBy.Total.\n",
       ":   0\n",
       "\n"
      ],
      "text/plain": [
       "                              ...1                          SalePrice                          YearBuilt                             YrSold                          MonthSold \n",
       "                                 0                                  0                                  0                                  0                                  0 \n",
       "                         Size.sqf.                              Floor                        HallwayType                        HeatingType                      AptManageType \n",
       "                                 0                                  0                                  0                                  0                                  0 \n",
       "              N_Parkinglot.Ground.             N_Parkinglot.Basement.                      TimeToBusStop                       TimeToSubway                              N_APT \n",
       "                                 0                                  0                                  0                                  0                                  0 \n",
       "                         N_manager                        N_elevators                      SubwayStation   N_FacilitiesNearBy.PublicOffice.       N_FacilitiesNearBy.Hospital. \n",
       "                                 0                                  0                                  0                                  0                                  0 \n",
       "N_FacilitiesNearBy.Dpartmentstore.           N_FacilitiesNearBy.Mall.            N_FacilitiesNearBy.ETC.           N_FacilitiesNearBy.Park.         N_SchoolNearBy.Elementary. \n",
       "                                 0                                  0                                  0                                  0                                  0 \n",
       "            N_SchoolNearBy.Middle.               N_SchoolNearBy.High.         N_SchoolNearBy.University.                  N_FacilitiesInApt          N_FacilitiesNearBy.Total. \n",
       "                                 0                                  0                                  0                                  0                                  0 \n",
       "             N_SchoolNearBy.Total. \n",
       "                                 0 "
      ]
     },
     "metadata": {},
     "output_type": "display_data"
    }
   ],
   "source": [
    "colSums(is.na(data))\n"
   ]
  },
  {
   "cell_type": "code",
   "execution_count": 33,
   "id": "b685f2b1",
   "metadata": {
    "vscode": {
     "languageId": "r"
    }
   },
   "outputs": [
    {
     "data": {
      "text/html": [
       "<table class=\"dataframe\">\n",
       "<caption>A psych: 31 × 13</caption>\n",
       "<thead>\n",
       "\t<tr><th></th><th scope=col>vars</th><th scope=col>n</th><th scope=col>mean</th><th scope=col>sd</th><th scope=col>median</th><th scope=col>trimmed</th><th scope=col>mad</th><th scope=col>min</th><th scope=col>max</th><th scope=col>range</th><th scope=col>skew</th><th scope=col>kurtosis</th><th scope=col>se</th></tr>\n",
       "\t<tr><th></th><th scope=col>&lt;int&gt;</th><th scope=col>&lt;dbl&gt;</th><th scope=col>&lt;dbl&gt;</th><th scope=col>&lt;dbl&gt;</th><th scope=col>&lt;dbl&gt;</th><th scope=col>&lt;dbl&gt;</th><th scope=col>&lt;dbl&gt;</th><th scope=col>&lt;dbl&gt;</th><th scope=col>&lt;dbl&gt;</th><th scope=col>&lt;dbl&gt;</th><th scope=col>&lt;dbl&gt;</th><th scope=col>&lt;dbl&gt;</th><th scope=col>&lt;dbl&gt;</th></tr>\n",
       "</thead>\n",
       "<tbody>\n",
       "\t<tr><th scope=row>...1</th><td> 1</td><td>4124</td><td>  2951.8048012</td><td>  1698.5999442</td><td>  2966.5</td><td>  2953.6357576</td><td>  2185.3524</td><td>    1</td><td>  5890</td><td>  5889</td><td>-0.01147475</td><td>-1.2029935</td><td>  26.450371563</td></tr>\n",
       "\t<tr><th scope=row>SalePrice</th><td> 2</td><td>4124</td><td>221687.6178468</td><td>106353.1865756</td><td>207964.0</td><td>215916.4300000</td><td>104963.6322</td><td>32743</td><td>585840</td><td>553097</td><td> 0.47980600</td><td>-0.3084196</td><td>1656.117622844</td></tr>\n",
       "\t<tr><th scope=row>YearBuilt</th><td> 3</td><td>4124</td><td>  2002.9747818</td><td>     8.8461584</td><td>  2006.0</td><td>  2003.7654545</td><td>     4.4478</td><td> 1978</td><td>  2015</td><td>    37</td><td>-0.80913783</td><td>-0.3598156</td><td>   0.137751197</td></tr>\n",
       "\t<tr><th scope=row>YrSold</th><td> 4</td><td>4124</td><td>  2012.7019884</td><td>     2.9034401</td><td>  2013.0</td><td>  2012.7593939</td><td>     4.4478</td><td> 2007</td><td>  2017</td><td>    10</td><td>-0.15007251</td><td>-1.1798272</td><td>   0.045211982</td></tr>\n",
       "\t<tr><th scope=row>MonthSold</th><td> 5</td><td>4124</td><td>     6.1627061</td><td>     3.3824756</td><td>     6.0</td><td>     6.1230303</td><td>     4.4478</td><td>    1</td><td>    12</td><td>    11</td><td> 0.10820934</td><td>-1.1395532</td><td>   0.052671458</td></tr>\n",
       "\t<tr><th scope=row>Size.sqf.</th><td> 6</td><td>4124</td><td>   955.9090689</td><td>   376.9054483</td><td>   910.0</td><td>   922.8909091</td><td>   394.3716</td><td>  135</td><td>  2337</td><td>  2202</td><td> 0.87115261</td><td> 0.8370424</td><td>   5.869121322</td></tr>\n",
       "\t<tr><th scope=row>Floor</th><td> 7</td><td>4124</td><td>    12.0647430</td><td>     7.6164692</td><td>    11.0</td><td>    11.4363636</td><td>     7.4130</td><td>    1</td><td>    43</td><td>    42</td><td> 0.79846194</td><td> 0.5954025</td><td>   0.118602641</td></tr>\n",
       "\t<tr><th scope=row>HallwayType*</th><td> 8</td><td>4124</td><td>     2.5016974</td><td>     0.6793778</td><td>     3.0</td><td>     2.6269697</td><td>     0.0000</td><td>    1</td><td>     3</td><td>     2</td><td>-1.01761481</td><td>-0.2151102</td><td>   0.010579181</td></tr>\n",
       "\t<tr><th scope=row>HeatingType*</th><td> 9</td><td>4124</td><td>     1.9485936</td><td>     0.2208520</td><td>     2.0</td><td>     2.0000000</td><td>     0.0000</td><td>    1</td><td>     2</td><td>     1</td><td>-4.06140583</td><td>14.4985331</td><td>   0.003439078</td></tr>\n",
       "\t<tr><th scope=row>AptManageType*</th><td>10</td><td>4124</td><td>     1.0601358</td><td>     0.2377671</td><td>     1.0</td><td>     1.0000000</td><td>     0.0000</td><td>    1</td><td>     2</td><td>     1</td><td> 3.69906166</td><td>11.6858910</td><td>   0.003702477</td></tr>\n",
       "\t<tr><th scope=row>N_Parkinglot.Ground.</th><td>11</td><td>4124</td><td>   194.6988361</td><td>   218.1426791</td><td>   100.0</td><td>   163.9339394</td><td>   137.8818</td><td>    0</td><td>   713</td><td>   713</td><td> 1.09630819</td><td>-0.1960362</td><td>   3.396888677</td></tr>\n",
       "\t<tr><th scope=row>N_Parkinglot.Basement.</th><td>12</td><td>4124</td><td>   571.5708050</td><td>   407.5174197</td><td>   536.0</td><td>   554.6200000</td><td>   493.7058</td><td>    0</td><td>  1321</td><td>  1321</td><td> 0.24787594</td><td>-0.9609991</td><td>   6.345806854</td></tr>\n",
       "\t<tr><th scope=row>TimeToBusStop*</th><td>13</td><td>4124</td><td>     1.4568380</td><td>     0.8345146</td><td>     1.0</td><td>     1.3212121</td><td>     0.0000</td><td>    1</td><td>     3</td><td>     2</td><td> 1.29326940</td><td>-0.3097582</td><td>   0.012994949</td></tr>\n",
       "\t<tr><th scope=row>TimeToSubway*</th><td>14</td><td>4124</td><td>     2.1891368</td><td>     1.3102770</td><td>     2.0</td><td>     2.0624242</td><td>     1.4826</td><td>    1</td><td>     5</td><td>     4</td><td> 0.57881778</td><td>-1.1247105</td><td>   0.020403459</td></tr>\n",
       "\t<tr><th scope=row>N_APT</th><td>15</td><td>4124</td><td>     5.6302134</td><td>     2.7857906</td><td>     7.0</td><td>     5.7166667</td><td>     1.4826</td><td>    1</td><td>    13</td><td>    12</td><td>-0.13306820</td><td>-0.6880575</td><td>   0.043379960</td></tr>\n",
       "\t<tr><th scope=row>N_manager</th><td>16</td><td>4124</td><td>     6.3052861</td><td>     3.1649857</td><td>     6.0</td><td>     5.9063636</td><td>     1.4826</td><td>    1</td><td>    14</td><td>    13</td><td> 1.09938585</td><td> 1.1471245</td><td>   0.049284734</td></tr>\n",
       "\t<tr><th scope=row>N_elevators</th><td>17</td><td>4124</td><td>    11.1193016</td><td>     7.8123347</td><td>    11.0</td><td>    10.8618182</td><td>     8.8956</td><td>    0</td><td>    27</td><td>    27</td><td> 0.12463323</td><td>-0.8772523</td><td>   0.121652634</td></tr>\n",
       "\t<tr><th scope=row>SubwayStation*</th><td>18</td><td>4124</td><td>     4.7841901</td><td>     2.1719626</td><td>     5.0</td><td>     4.8551515</td><td>     1.4826</td><td>    1</td><td>     8</td><td>     7</td><td>-0.47109688</td><td>-0.8511738</td><td>   0.033821512</td></tr>\n",
       "\t<tr><th scope=row>N_FacilitiesNearBy.PublicOffice.</th><td>19</td><td>4124</td><td>     4.1387003</td><td>     1.7860770</td><td>     5.0</td><td>     4.1642424</td><td>     2.9652</td><td>    0</td><td>     7</td><td>     7</td><td>-0.20444157</td><td>-0.8806412</td><td>   0.027812553</td></tr>\n",
       "\t<tr><th scope=row>N_FacilitiesNearBy.Hospital.</th><td>20</td><td>4124</td><td>     1.2951018</td><td>     0.4814938</td><td>     1.0</td><td>     1.2587879</td><td>     0.0000</td><td>    0</td><td>     2</td><td>     2</td><td> 0.57518570</td><td>-0.8718533</td><td>   0.007497757</td></tr>\n",
       "\t<tr><th scope=row>N_FacilitiesNearBy.Dpartmentstore.</th><td>21</td><td>4124</td><td>     0.8887003</td><td>     0.8059194</td><td>     1.0</td><td>     0.8609091</td><td>     1.4826</td><td>    0</td><td>     2</td><td>     2</td><td> 0.20421443</td><td>-1.4333373</td><td>   0.012549669</td></tr>\n",
       "\t<tr><th scope=row>N_FacilitiesNearBy.Mall.</th><td>22</td><td>4124</td><td>     0.9391368</td><td>     0.3975804</td><td>     1.0</td><td>     0.9857576</td><td>     0.0000</td><td>    0</td><td>     2</td><td>     2</td><td>-0.50572817</td><td> 3.0222261</td><td>   0.006191069</td></tr>\n",
       "\t<tr><th scope=row>N_FacilitiesNearBy.ETC.</th><td>23</td><td>4124</td><td>     1.9367119</td><td>     2.2012764</td><td>     1.0</td><td>     1.7960606</td><td>     1.4826</td><td>    0</td><td>     5</td><td>     5</td><td> 0.56358048</td><td>-1.5108702</td><td>   0.034277982</td></tr>\n",
       "\t<tr><th scope=row>N_FacilitiesNearBy.Park.</th><td>24</td><td>4124</td><td>     0.6479146</td><td>     0.6586745</td><td>     1.0</td><td>     0.5600000</td><td>     1.4826</td><td>    0</td><td>     2</td><td>     2</td><td> 0.52388203</td><td>-0.7125031</td><td>   0.010256791</td></tr>\n",
       "\t<tr><th scope=row>N_SchoolNearBy.Elementary.</th><td>25</td><td>4124</td><td>     3.0247333</td><td>     0.9526094</td><td>     3.0</td><td>     3.0496970</td><td>     1.4826</td><td>    0</td><td>     6</td><td>     6</td><td>-0.25797231</td><td> 1.0721194</td><td>   0.014833907</td></tr>\n",
       "\t<tr><th scope=row>N_SchoolNearBy.Middle.</th><td>26</td><td>4124</td><td>     2.4253152</td><td>     1.0360934</td><td>     3.0</td><td>     2.4551515</td><td>     1.4826</td><td>    0</td><td>     4</td><td>     4</td><td>-0.44052335</td><td>-0.4979325</td><td>   0.016133908</td></tr>\n",
       "\t<tr><th scope=row>N_SchoolNearBy.High.</th><td>27</td><td>4124</td><td>     2.6612512</td><td>     1.5490812</td><td>     2.0</td><td>     2.6251515</td><td>     1.4826</td><td>    0</td><td>     5</td><td>     5</td><td> 0.28557220</td><td>-1.2424699</td><td>   0.024122086</td></tr>\n",
       "\t<tr><th scope=row>N_SchoolNearBy.University.</th><td>28</td><td>4124</td><td>     2.7635790</td><td>     1.4858447</td><td>     2.0</td><td>     2.7330303</td><td>     1.4826</td><td>    0</td><td>     5</td><td>     5</td><td> 0.24597237</td><td>-1.2254280</td><td>   0.023137376</td></tr>\n",
       "\t<tr><th scope=row>N_FacilitiesInApt</th><td>29</td><td>4124</td><td>     5.8283220</td><td>     2.3204608</td><td>     5.0</td><td>     5.6957576</td><td>     2.9652</td><td>    1</td><td>    10</td><td>     9</td><td> 0.46089423</td><td>-0.8568118</td><td>   0.036133906</td></tr>\n",
       "\t<tr><th scope=row>N_FacilitiesNearBy.Total.</th><td>30</td><td>4124</td><td>     9.8462658</td><td>     3.4536020</td><td>     9.0</td><td>     9.9648485</td><td>     4.4478</td><td>    0</td><td>    16</td><td>    16</td><td>-0.20867210</td><td>-0.3154157</td><td>   0.053779029</td></tr>\n",
       "\t<tr><th scope=row>N_SchoolNearBy.Total.</th><td>31</td><td>4124</td><td>    10.8748788</td><td>     4.4255075</td><td>    10.0</td><td>    10.9751515</td><td>     5.9304</td><td>    0</td><td>    17</td><td>    17</td><td>-0.06798133</td><td>-0.9900415</td><td>   0.068913413</td></tr>\n",
       "</tbody>\n",
       "</table>\n"
      ],
      "text/latex": [
       "A psych: 31 × 13\n",
       "\\begin{tabular}{r|lllllllllllll}\n",
       "  & vars & n & mean & sd & median & trimmed & mad & min & max & range & skew & kurtosis & se\\\\\n",
       "  & <int> & <dbl> & <dbl> & <dbl> & <dbl> & <dbl> & <dbl> & <dbl> & <dbl> & <dbl> & <dbl> & <dbl> & <dbl>\\\\\n",
       "\\hline\n",
       "\t...1 &  1 & 4124 &   2951.8048012 &   1698.5999442 &   2966.5 &   2953.6357576 &   2185.3524 &     1 &   5890 &   5889 & -0.01147475 & -1.2029935 &   26.450371563\\\\\n",
       "\tSalePrice &  2 & 4124 & 221687.6178468 & 106353.1865756 & 207964.0 & 215916.4300000 & 104963.6322 & 32743 & 585840 & 553097 &  0.47980600 & -0.3084196 & 1656.117622844\\\\\n",
       "\tYearBuilt &  3 & 4124 &   2002.9747818 &      8.8461584 &   2006.0 &   2003.7654545 &      4.4478 &  1978 &   2015 &     37 & -0.80913783 & -0.3598156 &    0.137751197\\\\\n",
       "\tYrSold &  4 & 4124 &   2012.7019884 &      2.9034401 &   2013.0 &   2012.7593939 &      4.4478 &  2007 &   2017 &     10 & -0.15007251 & -1.1798272 &    0.045211982\\\\\n",
       "\tMonthSold &  5 & 4124 &      6.1627061 &      3.3824756 &      6.0 &      6.1230303 &      4.4478 &     1 &     12 &     11 &  0.10820934 & -1.1395532 &    0.052671458\\\\\n",
       "\tSize.sqf. &  6 & 4124 &    955.9090689 &    376.9054483 &    910.0 &    922.8909091 &    394.3716 &   135 &   2337 &   2202 &  0.87115261 &  0.8370424 &    5.869121322\\\\\n",
       "\tFloor &  7 & 4124 &     12.0647430 &      7.6164692 &     11.0 &     11.4363636 &      7.4130 &     1 &     43 &     42 &  0.79846194 &  0.5954025 &    0.118602641\\\\\n",
       "\tHallwayType* &  8 & 4124 &      2.5016974 &      0.6793778 &      3.0 &      2.6269697 &      0.0000 &     1 &      3 &      2 & -1.01761481 & -0.2151102 &    0.010579181\\\\\n",
       "\tHeatingType* &  9 & 4124 &      1.9485936 &      0.2208520 &      2.0 &      2.0000000 &      0.0000 &     1 &      2 &      1 & -4.06140583 & 14.4985331 &    0.003439078\\\\\n",
       "\tAptManageType* & 10 & 4124 &      1.0601358 &      0.2377671 &      1.0 &      1.0000000 &      0.0000 &     1 &      2 &      1 &  3.69906166 & 11.6858910 &    0.003702477\\\\\n",
       "\tN\\_Parkinglot.Ground. & 11 & 4124 &    194.6988361 &    218.1426791 &    100.0 &    163.9339394 &    137.8818 &     0 &    713 &    713 &  1.09630819 & -0.1960362 &    3.396888677\\\\\n",
       "\tN\\_Parkinglot.Basement. & 12 & 4124 &    571.5708050 &    407.5174197 &    536.0 &    554.6200000 &    493.7058 &     0 &   1321 &   1321 &  0.24787594 & -0.9609991 &    6.345806854\\\\\n",
       "\tTimeToBusStop* & 13 & 4124 &      1.4568380 &      0.8345146 &      1.0 &      1.3212121 &      0.0000 &     1 &      3 &      2 &  1.29326940 & -0.3097582 &    0.012994949\\\\\n",
       "\tTimeToSubway* & 14 & 4124 &      2.1891368 &      1.3102770 &      2.0 &      2.0624242 &      1.4826 &     1 &      5 &      4 &  0.57881778 & -1.1247105 &    0.020403459\\\\\n",
       "\tN\\_APT & 15 & 4124 &      5.6302134 &      2.7857906 &      7.0 &      5.7166667 &      1.4826 &     1 &     13 &     12 & -0.13306820 & -0.6880575 &    0.043379960\\\\\n",
       "\tN\\_manager & 16 & 4124 &      6.3052861 &      3.1649857 &      6.0 &      5.9063636 &      1.4826 &     1 &     14 &     13 &  1.09938585 &  1.1471245 &    0.049284734\\\\\n",
       "\tN\\_elevators & 17 & 4124 &     11.1193016 &      7.8123347 &     11.0 &     10.8618182 &      8.8956 &     0 &     27 &     27 &  0.12463323 & -0.8772523 &    0.121652634\\\\\n",
       "\tSubwayStation* & 18 & 4124 &      4.7841901 &      2.1719626 &      5.0 &      4.8551515 &      1.4826 &     1 &      8 &      7 & -0.47109688 & -0.8511738 &    0.033821512\\\\\n",
       "\tN\\_FacilitiesNearBy.PublicOffice. & 19 & 4124 &      4.1387003 &      1.7860770 &      5.0 &      4.1642424 &      2.9652 &     0 &      7 &      7 & -0.20444157 & -0.8806412 &    0.027812553\\\\\n",
       "\tN\\_FacilitiesNearBy.Hospital. & 20 & 4124 &      1.2951018 &      0.4814938 &      1.0 &      1.2587879 &      0.0000 &     0 &      2 &      2 &  0.57518570 & -0.8718533 &    0.007497757\\\\\n",
       "\tN\\_FacilitiesNearBy.Dpartmentstore. & 21 & 4124 &      0.8887003 &      0.8059194 &      1.0 &      0.8609091 &      1.4826 &     0 &      2 &      2 &  0.20421443 & -1.4333373 &    0.012549669\\\\\n",
       "\tN\\_FacilitiesNearBy.Mall. & 22 & 4124 &      0.9391368 &      0.3975804 &      1.0 &      0.9857576 &      0.0000 &     0 &      2 &      2 & -0.50572817 &  3.0222261 &    0.006191069\\\\\n",
       "\tN\\_FacilitiesNearBy.ETC. & 23 & 4124 &      1.9367119 &      2.2012764 &      1.0 &      1.7960606 &      1.4826 &     0 &      5 &      5 &  0.56358048 & -1.5108702 &    0.034277982\\\\\n",
       "\tN\\_FacilitiesNearBy.Park. & 24 & 4124 &      0.6479146 &      0.6586745 &      1.0 &      0.5600000 &      1.4826 &     0 &      2 &      2 &  0.52388203 & -0.7125031 &    0.010256791\\\\\n",
       "\tN\\_SchoolNearBy.Elementary. & 25 & 4124 &      3.0247333 &      0.9526094 &      3.0 &      3.0496970 &      1.4826 &     0 &      6 &      6 & -0.25797231 &  1.0721194 &    0.014833907\\\\\n",
       "\tN\\_SchoolNearBy.Middle. & 26 & 4124 &      2.4253152 &      1.0360934 &      3.0 &      2.4551515 &      1.4826 &     0 &      4 &      4 & -0.44052335 & -0.4979325 &    0.016133908\\\\\n",
       "\tN\\_SchoolNearBy.High. & 27 & 4124 &      2.6612512 &      1.5490812 &      2.0 &      2.6251515 &      1.4826 &     0 &      5 &      5 &  0.28557220 & -1.2424699 &    0.024122086\\\\\n",
       "\tN\\_SchoolNearBy.University. & 28 & 4124 &      2.7635790 &      1.4858447 &      2.0 &      2.7330303 &      1.4826 &     0 &      5 &      5 &  0.24597237 & -1.2254280 &    0.023137376\\\\\n",
       "\tN\\_FacilitiesInApt & 29 & 4124 &      5.8283220 &      2.3204608 &      5.0 &      5.6957576 &      2.9652 &     1 &     10 &      9 &  0.46089423 & -0.8568118 &    0.036133906\\\\\n",
       "\tN\\_FacilitiesNearBy.Total. & 30 & 4124 &      9.8462658 &      3.4536020 &      9.0 &      9.9648485 &      4.4478 &     0 &     16 &     16 & -0.20867210 & -0.3154157 &    0.053779029\\\\\n",
       "\tN\\_SchoolNearBy.Total. & 31 & 4124 &     10.8748788 &      4.4255075 &     10.0 &     10.9751515 &      5.9304 &     0 &     17 &     17 & -0.06798133 & -0.9900415 &    0.068913413\\\\\n",
       "\\end{tabular}\n"
      ],
      "text/markdown": [
       "\n",
       "A psych: 31 × 13\n",
       "\n",
       "| <!--/--> | vars &lt;int&gt; | n &lt;dbl&gt; | mean &lt;dbl&gt; | sd &lt;dbl&gt; | median &lt;dbl&gt; | trimmed &lt;dbl&gt; | mad &lt;dbl&gt; | min &lt;dbl&gt; | max &lt;dbl&gt; | range &lt;dbl&gt; | skew &lt;dbl&gt; | kurtosis &lt;dbl&gt; | se &lt;dbl&gt; |\n",
       "|---|---|---|---|---|---|---|---|---|---|---|---|---|---|\n",
       "| ...1 |  1 | 4124 |   2951.8048012 |   1698.5999442 |   2966.5 |   2953.6357576 |   2185.3524 |     1 |   5890 |   5889 | -0.01147475 | -1.2029935 |   26.450371563 |\n",
       "| SalePrice |  2 | 4124 | 221687.6178468 | 106353.1865756 | 207964.0 | 215916.4300000 | 104963.6322 | 32743 | 585840 | 553097 |  0.47980600 | -0.3084196 | 1656.117622844 |\n",
       "| YearBuilt |  3 | 4124 |   2002.9747818 |      8.8461584 |   2006.0 |   2003.7654545 |      4.4478 |  1978 |   2015 |     37 | -0.80913783 | -0.3598156 |    0.137751197 |\n",
       "| YrSold |  4 | 4124 |   2012.7019884 |      2.9034401 |   2013.0 |   2012.7593939 |      4.4478 |  2007 |   2017 |     10 | -0.15007251 | -1.1798272 |    0.045211982 |\n",
       "| MonthSold |  5 | 4124 |      6.1627061 |      3.3824756 |      6.0 |      6.1230303 |      4.4478 |     1 |     12 |     11 |  0.10820934 | -1.1395532 |    0.052671458 |\n",
       "| Size.sqf. |  6 | 4124 |    955.9090689 |    376.9054483 |    910.0 |    922.8909091 |    394.3716 |   135 |   2337 |   2202 |  0.87115261 |  0.8370424 |    5.869121322 |\n",
       "| Floor |  7 | 4124 |     12.0647430 |      7.6164692 |     11.0 |     11.4363636 |      7.4130 |     1 |     43 |     42 |  0.79846194 |  0.5954025 |    0.118602641 |\n",
       "| HallwayType* |  8 | 4124 |      2.5016974 |      0.6793778 |      3.0 |      2.6269697 |      0.0000 |     1 |      3 |      2 | -1.01761481 | -0.2151102 |    0.010579181 |\n",
       "| HeatingType* |  9 | 4124 |      1.9485936 |      0.2208520 |      2.0 |      2.0000000 |      0.0000 |     1 |      2 |      1 | -4.06140583 | 14.4985331 |    0.003439078 |\n",
       "| AptManageType* | 10 | 4124 |      1.0601358 |      0.2377671 |      1.0 |      1.0000000 |      0.0000 |     1 |      2 |      1 |  3.69906166 | 11.6858910 |    0.003702477 |\n",
       "| N_Parkinglot.Ground. | 11 | 4124 |    194.6988361 |    218.1426791 |    100.0 |    163.9339394 |    137.8818 |     0 |    713 |    713 |  1.09630819 | -0.1960362 |    3.396888677 |\n",
       "| N_Parkinglot.Basement. | 12 | 4124 |    571.5708050 |    407.5174197 |    536.0 |    554.6200000 |    493.7058 |     0 |   1321 |   1321 |  0.24787594 | -0.9609991 |    6.345806854 |\n",
       "| TimeToBusStop* | 13 | 4124 |      1.4568380 |      0.8345146 |      1.0 |      1.3212121 |      0.0000 |     1 |      3 |      2 |  1.29326940 | -0.3097582 |    0.012994949 |\n",
       "| TimeToSubway* | 14 | 4124 |      2.1891368 |      1.3102770 |      2.0 |      2.0624242 |      1.4826 |     1 |      5 |      4 |  0.57881778 | -1.1247105 |    0.020403459 |\n",
       "| N_APT | 15 | 4124 |      5.6302134 |      2.7857906 |      7.0 |      5.7166667 |      1.4826 |     1 |     13 |     12 | -0.13306820 | -0.6880575 |    0.043379960 |\n",
       "| N_manager | 16 | 4124 |      6.3052861 |      3.1649857 |      6.0 |      5.9063636 |      1.4826 |     1 |     14 |     13 |  1.09938585 |  1.1471245 |    0.049284734 |\n",
       "| N_elevators | 17 | 4124 |     11.1193016 |      7.8123347 |     11.0 |     10.8618182 |      8.8956 |     0 |     27 |     27 |  0.12463323 | -0.8772523 |    0.121652634 |\n",
       "| SubwayStation* | 18 | 4124 |      4.7841901 |      2.1719626 |      5.0 |      4.8551515 |      1.4826 |     1 |      8 |      7 | -0.47109688 | -0.8511738 |    0.033821512 |\n",
       "| N_FacilitiesNearBy.PublicOffice. | 19 | 4124 |      4.1387003 |      1.7860770 |      5.0 |      4.1642424 |      2.9652 |     0 |      7 |      7 | -0.20444157 | -0.8806412 |    0.027812553 |\n",
       "| N_FacilitiesNearBy.Hospital. | 20 | 4124 |      1.2951018 |      0.4814938 |      1.0 |      1.2587879 |      0.0000 |     0 |      2 |      2 |  0.57518570 | -0.8718533 |    0.007497757 |\n",
       "| N_FacilitiesNearBy.Dpartmentstore. | 21 | 4124 |      0.8887003 |      0.8059194 |      1.0 |      0.8609091 |      1.4826 |     0 |      2 |      2 |  0.20421443 | -1.4333373 |    0.012549669 |\n",
       "| N_FacilitiesNearBy.Mall. | 22 | 4124 |      0.9391368 |      0.3975804 |      1.0 |      0.9857576 |      0.0000 |     0 |      2 |      2 | -0.50572817 |  3.0222261 |    0.006191069 |\n",
       "| N_FacilitiesNearBy.ETC. | 23 | 4124 |      1.9367119 |      2.2012764 |      1.0 |      1.7960606 |      1.4826 |     0 |      5 |      5 |  0.56358048 | -1.5108702 |    0.034277982 |\n",
       "| N_FacilitiesNearBy.Park. | 24 | 4124 |      0.6479146 |      0.6586745 |      1.0 |      0.5600000 |      1.4826 |     0 |      2 |      2 |  0.52388203 | -0.7125031 |    0.010256791 |\n",
       "| N_SchoolNearBy.Elementary. | 25 | 4124 |      3.0247333 |      0.9526094 |      3.0 |      3.0496970 |      1.4826 |     0 |      6 |      6 | -0.25797231 |  1.0721194 |    0.014833907 |\n",
       "| N_SchoolNearBy.Middle. | 26 | 4124 |      2.4253152 |      1.0360934 |      3.0 |      2.4551515 |      1.4826 |     0 |      4 |      4 | -0.44052335 | -0.4979325 |    0.016133908 |\n",
       "| N_SchoolNearBy.High. | 27 | 4124 |      2.6612512 |      1.5490812 |      2.0 |      2.6251515 |      1.4826 |     0 |      5 |      5 |  0.28557220 | -1.2424699 |    0.024122086 |\n",
       "| N_SchoolNearBy.University. | 28 | 4124 |      2.7635790 |      1.4858447 |      2.0 |      2.7330303 |      1.4826 |     0 |      5 |      5 |  0.24597237 | -1.2254280 |    0.023137376 |\n",
       "| N_FacilitiesInApt | 29 | 4124 |      5.8283220 |      2.3204608 |      5.0 |      5.6957576 |      2.9652 |     1 |     10 |      9 |  0.46089423 | -0.8568118 |    0.036133906 |\n",
       "| N_FacilitiesNearBy.Total. | 30 | 4124 |      9.8462658 |      3.4536020 |      9.0 |      9.9648485 |      4.4478 |     0 |     16 |     16 | -0.20867210 | -0.3154157 |    0.053779029 |\n",
       "| N_SchoolNearBy.Total. | 31 | 4124 |     10.8748788 |      4.4255075 |     10.0 |     10.9751515 |      5.9304 |     0 |     17 |     17 | -0.06798133 | -0.9900415 |    0.068913413 |\n",
       "\n"
      ],
      "text/plain": [
       "                                   vars n    mean           sd             median   trimmed        mad         min   max    range  skew        kurtosis   se            \n",
       "...1                                1   4124   2951.8048012   1698.5999442   2966.5   2953.6357576   2185.3524     1   5890   5889 -0.01147475 -1.2029935   26.450371563\n",
       "SalePrice                           2   4124 221687.6178468 106353.1865756 207964.0 215916.4300000 104963.6322 32743 585840 553097  0.47980600 -0.3084196 1656.117622844\n",
       "YearBuilt                           3   4124   2002.9747818      8.8461584   2006.0   2003.7654545      4.4478  1978   2015     37 -0.80913783 -0.3598156    0.137751197\n",
       "YrSold                              4   4124   2012.7019884      2.9034401   2013.0   2012.7593939      4.4478  2007   2017     10 -0.15007251 -1.1798272    0.045211982\n",
       "MonthSold                           5   4124      6.1627061      3.3824756      6.0      6.1230303      4.4478     1     12     11  0.10820934 -1.1395532    0.052671458\n",
       "Size.sqf.                           6   4124    955.9090689    376.9054483    910.0    922.8909091    394.3716   135   2337   2202  0.87115261  0.8370424    5.869121322\n",
       "Floor                               7   4124     12.0647430      7.6164692     11.0     11.4363636      7.4130     1     43     42  0.79846194  0.5954025    0.118602641\n",
       "HallwayType*                        8   4124      2.5016974      0.6793778      3.0      2.6269697      0.0000     1      3      2 -1.01761481 -0.2151102    0.010579181\n",
       "HeatingType*                        9   4124      1.9485936      0.2208520      2.0      2.0000000      0.0000     1      2      1 -4.06140583 14.4985331    0.003439078\n",
       "AptManageType*                     10   4124      1.0601358      0.2377671      1.0      1.0000000      0.0000     1      2      1  3.69906166 11.6858910    0.003702477\n",
       "N_Parkinglot.Ground.               11   4124    194.6988361    218.1426791    100.0    163.9339394    137.8818     0    713    713  1.09630819 -0.1960362    3.396888677\n",
       "N_Parkinglot.Basement.             12   4124    571.5708050    407.5174197    536.0    554.6200000    493.7058     0   1321   1321  0.24787594 -0.9609991    6.345806854\n",
       "TimeToBusStop*                     13   4124      1.4568380      0.8345146      1.0      1.3212121      0.0000     1      3      2  1.29326940 -0.3097582    0.012994949\n",
       "TimeToSubway*                      14   4124      2.1891368      1.3102770      2.0      2.0624242      1.4826     1      5      4  0.57881778 -1.1247105    0.020403459\n",
       "N_APT                              15   4124      5.6302134      2.7857906      7.0      5.7166667      1.4826     1     13     12 -0.13306820 -0.6880575    0.043379960\n",
       "N_manager                          16   4124      6.3052861      3.1649857      6.0      5.9063636      1.4826     1     14     13  1.09938585  1.1471245    0.049284734\n",
       "N_elevators                        17   4124     11.1193016      7.8123347     11.0     10.8618182      8.8956     0     27     27  0.12463323 -0.8772523    0.121652634\n",
       "SubwayStation*                     18   4124      4.7841901      2.1719626      5.0      4.8551515      1.4826     1      8      7 -0.47109688 -0.8511738    0.033821512\n",
       "N_FacilitiesNearBy.PublicOffice.   19   4124      4.1387003      1.7860770      5.0      4.1642424      2.9652     0      7      7 -0.20444157 -0.8806412    0.027812553\n",
       "N_FacilitiesNearBy.Hospital.       20   4124      1.2951018      0.4814938      1.0      1.2587879      0.0000     0      2      2  0.57518570 -0.8718533    0.007497757\n",
       "N_FacilitiesNearBy.Dpartmentstore. 21   4124      0.8887003      0.8059194      1.0      0.8609091      1.4826     0      2      2  0.20421443 -1.4333373    0.012549669\n",
       "N_FacilitiesNearBy.Mall.           22   4124      0.9391368      0.3975804      1.0      0.9857576      0.0000     0      2      2 -0.50572817  3.0222261    0.006191069\n",
       "N_FacilitiesNearBy.ETC.            23   4124      1.9367119      2.2012764      1.0      1.7960606      1.4826     0      5      5  0.56358048 -1.5108702    0.034277982\n",
       "N_FacilitiesNearBy.Park.           24   4124      0.6479146      0.6586745      1.0      0.5600000      1.4826     0      2      2  0.52388203 -0.7125031    0.010256791\n",
       "N_SchoolNearBy.Elementary.         25   4124      3.0247333      0.9526094      3.0      3.0496970      1.4826     0      6      6 -0.25797231  1.0721194    0.014833907\n",
       "N_SchoolNearBy.Middle.             26   4124      2.4253152      1.0360934      3.0      2.4551515      1.4826     0      4      4 -0.44052335 -0.4979325    0.016133908\n",
       "N_SchoolNearBy.High.               27   4124      2.6612512      1.5490812      2.0      2.6251515      1.4826     0      5      5  0.28557220 -1.2424699    0.024122086\n",
       "N_SchoolNearBy.University.         28   4124      2.7635790      1.4858447      2.0      2.7330303      1.4826     0      5      5  0.24597237 -1.2254280    0.023137376\n",
       "N_FacilitiesInApt                  29   4124      5.8283220      2.3204608      5.0      5.6957576      2.9652     1     10      9  0.46089423 -0.8568118    0.036133906\n",
       "N_FacilitiesNearBy.Total.          30   4124      9.8462658      3.4536020      9.0      9.9648485      4.4478     0     16     16 -0.20867210 -0.3154157    0.053779029\n",
       "N_SchoolNearBy.Total.              31   4124     10.8748788      4.4255075     10.0     10.9751515      5.9304     0     17     17 -0.06798133 -0.9900415    0.068913413"
      ]
     },
     "metadata": {},
     "output_type": "display_data"
    }
   ],
   "source": [
    "describe(data)"
   ]
  },
  {
   "cell_type": "markdown",
   "id": "6f25a518",
   "metadata": {},
   "source": [
    "## Explorando la variable objetivo SalesPrice"
   ]
  },
  {
   "cell_type": "code",
   "execution_count": 31,
   "id": "5dfba88c",
   "metadata": {
    "vscode": {
     "languageId": "r"
    }
   },
   "outputs": [
    {
     "data": {
      "text/html": [
       "<style>\n",
       ".list-inline {list-style: none; margin:0; padding: 0}\n",
       ".list-inline>li {display: inline-block}\n",
       ".list-inline>li:not(:last-child)::after {content: \"\\00b7\"; padding: 0 .5ex}\n",
       "</style>\n",
       "<ol class=list-inline><li>556637</li><li>527433</li><li>513274</li><li>570796</li><li>530973</li><li>566371</li><li>530973</li><li>526548</li><li>517699</li><li>517699</li><li>530973</li><li>529203</li><li>526548</li><li>522123</li><li>564601</li><li>529203</li><li>566371</li><li>515929</li><li>585840</li><li>515044</li><li>526548</li><li>522123</li><li>557522</li><li>570796</li><li>511504</li></ol>\n"
      ],
      "text/latex": [
       "\\begin{enumerate*}\n",
       "\\item 556637\n",
       "\\item 527433\n",
       "\\item 513274\n",
       "\\item 570796\n",
       "\\item 530973\n",
       "\\item 566371\n",
       "\\item 530973\n",
       "\\item 526548\n",
       "\\item 517699\n",
       "\\item 517699\n",
       "\\item 530973\n",
       "\\item 529203\n",
       "\\item 526548\n",
       "\\item 522123\n",
       "\\item 564601\n",
       "\\item 529203\n",
       "\\item 566371\n",
       "\\item 515929\n",
       "\\item 585840\n",
       "\\item 515044\n",
       "\\item 526548\n",
       "\\item 522123\n",
       "\\item 557522\n",
       "\\item 570796\n",
       "\\item 511504\n",
       "\\end{enumerate*}\n"
      ],
      "text/markdown": [
       "1. 556637\n",
       "2. 527433\n",
       "3. 513274\n",
       "4. 570796\n",
       "5. 530973\n",
       "6. 566371\n",
       "7. 530973\n",
       "8. 526548\n",
       "9. 517699\n",
       "10. 517699\n",
       "11. 530973\n",
       "12. 529203\n",
       "13. 526548\n",
       "14. 522123\n",
       "15. 564601\n",
       "16. 529203\n",
       "17. 566371\n",
       "18. 515929\n",
       "19. 585840\n",
       "20. 515044\n",
       "21. 526548\n",
       "22. 522123\n",
       "23. 557522\n",
       "24. 570796\n",
       "25. 511504\n",
       "\n",
       "\n"
      ],
      "text/plain": [
       " [1] 556637 527433 513274 570796 530973 566371 530973 526548 517699 517699 530973 529203 526548 522123 564601 529203 566371 515929 585840 515044 526548 522123 557522 570796 511504"
      ]
     },
     "metadata": {},
     "output_type": "display_data"
    },
    {
     "data": {
      "image/png": "[encoded data removed]",
      "text/plain": [
       "plot without title"
      ]
     },
     "metadata": {
      "image/png": {
       "height": 420,
       "width": 420
      }
     },
     "output_type": "display_data"
    }
   ],
   "source": [
    "boxplot(data$SalePrice)$out"
   ]
  },
  {
   "cell_type": "code",
   "execution_count": 35,
   "id": "9b9baa89",
   "metadata": {
    "vscode": {
     "languageId": "r"
    }
   },
   "outputs": [
    {
     "data": {
      "image/png": "[encoded data removed]",
      "text/plain": [
       "Plot with title “Histogram of data$SalePrice”"
      ]
     },
     "metadata": {
      "image/png": {
       "height": 420,
       "width": 420
      }
     },
     "output_type": "display_data"
    },
    {
     "data": {
      "image/png": "[encoded data removed]",
      "text/plain": [
       "Plot with title “Histogram of data$SalePrice”"
      ]
     },
     "metadata": {
      "image/png": {
       "height": 420,
       "width": 420
      }
     },
     "output_type": "display_data"
    }
   ],
   "source": [
    "hist(data$SalePrice) #Histograma de frecuencias\n",
    "hist(data$SalePrice, freq = FALSE) #Densidades de probabilidad"
   ]
  },
  {
   "cell_type": "code",
   "execution_count": 36,
   "id": "020f41f2",
   "metadata": {
    "vscode": {
     "languageId": "r"
    }
   },
   "outputs": [
    {
     "data": {
      "image/png": "[encoded data removed]",
      "text/plain": [
       "Plot with title “density(x = data$SalePrice)”"
      ]
     },
     "metadata": {
      "image/png": {
       "height": 420,
       "width": 420
      }
     },
     "output_type": "display_data"
    }
   ],
   "source": [
    "plot(density(data$SalePrice))"
   ]
  },
  {
   "cell_type": "markdown",
   "id": "40388a20",
   "metadata": {},
   "source": [
    "## d"
   ]
  },
  {
   "cell_type": "code",
   "execution_count": 38,
   "id": "6025285c",
   "metadata": {
    "vscode": {
     "languageId": "r"
    }
   },
   "outputs": [
    {
     "ename": "ERROR",
     "evalue": "Error in cor(data): 'x' must be numeric\n",
     "output_type": "error",
     "traceback": [
      "Error in cor(data): 'x' must be numeric\nTraceback:\n",
      "1. cor(data)",
      "2. stop(\"'x' must be numeric\")"
     ]
    }
   ],
   "source": [
    "cor(data)"
   ]
  }
 ],
 "metadata": {
  "kernelspec": {
   "display_name": "R",
   "language": "R",
   "name": "ir"
  },
  "language_info": {
   "codemirror_mode": "r",
   "file_extension": ".r",
   "mimetype": "text/x-r-source",
   "name": "R",
   "pygments_lexer": "r",
   "version": "4.3.1"
  }
 },
 "nbformat": 4,
 "nbformat_minor": 5
}
